{
 "cells": [
  {
   "cell_type": "markdown",
   "metadata": {},
   "source": [
    "# Identify fraud from Eron Email"
   ]
  },
  {
   "cell_type": "markdown",
   "metadata": {},
   "source": [
    "### Understanding the Dataset and Question\n",
    "\n",
    "- Data Exploration (related lesson: \"Datasets and Questions\"):\n",
    "\n",
    "Student response addresses the most important characteristics of the dataset and uses these characteristics to inform their analysis. Important characteristics include:\n",
    " total number of data points, \n",
    " allocation across classes (POI/non-POI), \n",
    " number of features used, \n",
    " are there features with many missing values?,etc\n",
    "\n",
    "- Outlier Investigation (related lesson: \"Outliers\"):\n",
    "Student response identifies outlier(s) in the financial data, and explains how they are removed or otherwise handled.\n"
   ]
  },
  {
   "cell_type": "markdown",
   "metadata": {},
   "source": [
    "## Context \n",
    "\n",
    "In 2000, Enron was one of the largest companies in the United States. By 2002, it had collapsed into bankruptcy due to widespread corporate fraud. In the resulting Federal investigation, a significant amount of typically confidential information entered into the public record, including tens of thousands of emails and detailed financial data for top executives. In this project, you will play detective, and put your new skills to use by building a person of interest identifier based on financial and email data made public as a result of the Enron scandal. To assist you in your detective work, we've combined this data with a hand-generated list of persons of interest in the fraud case, which means individuals who were indicted, reached a settlement or plea deal with the government, or testified in exchange for prosecution immunity."
   ]
  },
  {
   "cell_type": "markdown",
   "metadata": {},
   "source": [
    "### The Dataset\n",
    "\n",
    "As preprocessing to this project, we've combined the Enron email and financial data into a dictionary, where each key-value pair in the dictionary corresponds to one person. The dictionary key is the person's name, and the value is another dictionary, which contains the names of all the features and their values for that person. The features in the data fall into three major types, namely financial features, email features and POI labels.\n",
    "\n",
    "financial features: ['salary', 'deferral_payments', 'total_payments', 'loan_advances', 'bonus', 'restricted_stock_deferred', 'deferred_income', 'total_stock_value', 'expenses', 'exercised_stock_options', 'other', 'long_term_incentive', 'restricted_stock', 'director_fees'] (all units are in US dollars)\n",
    "\n",
    "email features: ['to_messages', 'email_address', 'from_poi_to_this_person', 'from_messages', 'from_this_person_to_poi', 'shared_receipt_with_poi'] (units are generally number of emails messages; notable exception is ‘email_address’, which is a text string)\n",
    "\n",
    "POI label: [‘poi’] (boolean, represented as integer)"
   ]
  },
  {
   "cell_type": "code",
   "execution_count": 1,
   "metadata": {},
   "outputs": [
    {
     "name": "stderr",
     "output_type": "stream",
     "text": [
      "/Users/andreyai/anaconda/envs/bunnies/lib/python2.7/site-packages/sklearn/cross_validation.py:44: DeprecationWarning: This module was deprecated in version 0.18 in favor of the model_selection module into which all the refactored classes and functions are moved. Also note that the interface of the new CV iterators are different from that of this module. This module will be removed in 0.20.\n",
      "  \"This module will be removed in 0.20.\", DeprecationWarning)\n"
     ]
    }
   ],
   "source": [
    "import sys\n",
    "import pickle \n",
    "import pandas as pd\n",
    "sys.path.append(\"../tools/\")\n",
    "\n",
    "from feature_format import featureFormat, targetFeatureSplit\n",
    "from tester import dump_classifier_and_data"
   ]
  },
  {
   "cell_type": "code",
   "execution_count": 2,
   "metadata": {
    "collapsed": true
   },
   "outputs": [],
   "source": [
    "data_dict = pickle.load(open(\"../final_project/final_project_dataset.pkl\", \"r\") )"
   ]
  },
  {
   "cell_type": "markdown",
   "metadata": {},
   "source": [
    "### Data Exploration"
   ]
  },
  {
   "cell_type": "code",
   "execution_count": 3,
   "metadata": {},
   "outputs": [
    {
     "data": {
      "text/plain": [
       "{'bonus': 600000,\n",
       " 'deferral_payments': 'NaN',\n",
       " 'deferred_income': 'NaN',\n",
       " 'director_fees': 'NaN',\n",
       " 'email_address': 'mark.metts@enron.com',\n",
       " 'exercised_stock_options': 'NaN',\n",
       " 'expenses': 94299,\n",
       " 'from_messages': 29,\n",
       " 'from_poi_to_this_person': 38,\n",
       " 'from_this_person_to_poi': 1,\n",
       " 'loan_advances': 'NaN',\n",
       " 'long_term_incentive': 'NaN',\n",
       " 'other': 1740,\n",
       " 'poi': False,\n",
       " 'restricted_stock': 585062,\n",
       " 'restricted_stock_deferred': 'NaN',\n",
       " 'salary': 365788,\n",
       " 'shared_receipt_with_poi': 702,\n",
       " 'to_messages': 807,\n",
       " 'total_payments': 1061827,\n",
       " 'total_stock_value': 585062}"
      ]
     },
     "execution_count": 3,
     "metadata": {},
     "output_type": "execute_result"
    }
   ],
   "source": [
    "data_dict.values()[0]"
   ]
  },
  {
   "cell_type": "code",
   "execution_count": 4,
   "metadata": {},
   "outputs": [
    {
     "data": {
      "text/plain": [
       "['salary',\n",
       " 'to_messages',\n",
       " 'deferral_payments',\n",
       " 'total_payments',\n",
       " 'exercised_stock_options',\n",
       " 'bonus',\n",
       " 'restricted_stock',\n",
       " 'shared_receipt_with_poi',\n",
       " 'restricted_stock_deferred',\n",
       " 'total_stock_value',\n",
       " 'expenses',\n",
       " 'loan_advances',\n",
       " 'from_messages',\n",
       " 'other',\n",
       " 'from_this_person_to_poi',\n",
       " 'poi',\n",
       " 'director_fees',\n",
       " 'deferred_income',\n",
       " 'long_term_incentive',\n",
       " 'email_address',\n",
       " 'from_poi_to_this_person']"
      ]
     },
     "execution_count": 4,
     "metadata": {},
     "output_type": "execute_result"
    }
   ],
   "source": [
    "fields = data_dict.values()[0].keys()\n",
    "fields"
   ]
  },
  {
   "cell_type": "code",
   "execution_count": 5,
   "metadata": {
    "scrolled": true
   },
   "outputs": [
    {
     "name": "stdout",
     "output_type": "stream",
     "text": [
      "('Number of People Analyzed: ', 146)\n",
      "\n",
      "\n",
      "('Number of True Pois: ', 18)\n",
      "\n",
      "\n",
      "('Number of False Pois: ', 128)\n",
      "\n",
      "\n"
     ]
    }
   ],
   "source": [
    "# total number of data points, allocation across classes (POI/non-POI) \n",
    "# number of features used, are there features with many missing values?\n",
    "\n",
    "# dataset \n",
    "\n",
    "# total number of data points, \n",
    "print(\"Number of People Analyzed: \",len(data_dict))\n",
    "print(\"\\n\")\n",
    "\n",
    "# allocation across classes (POI/non-POI)\n",
    "poi_apperance = [data_dict[person][\"poi\"] for person in data_dict.keys()]\n",
    "print(\"Number of True Pois: \",poi_apperance.count(True))\n",
    "print(\"\\n\")\n",
    "print(\"Number of False Pois: \",poi_apperance.count(False))\n",
    "print(\"\\n\")"
   ]
  },
  {
   "cell_type": "code",
   "execution_count": 6,
   "metadata": {},
   "outputs": [
    {
     "name": "stdout",
     "output_type": "stream",
     "text": [
      "('TOTAL', 309886585)\n"
     ]
    }
   ],
   "source": [
    "persons_name = \"\"\n",
    "most_money = 0\n",
    "\n",
    "for name in data_dict.keys():\n",
    "    person = data_dict[name]\n",
    "    if(data_dict[name]['total_payments'] != 'NaN'and data_dict[name]['total_payments'] > most_money):\n",
    "        persons_name = name;\n",
    "        most_money = data_dict[name]['total_payments'];\n",
    "        \n",
    "print(persons_name, most_money);"
   ]
  },
  {
   "cell_type": "code",
   "execution_count": 7,
   "metadata": {},
   "outputs": [
    {
     "name": "stdout",
     "output_type": "stream",
     "text": [
      "('Number of Features in dictionary: ', 21)\n",
      "\n",
      "\n",
      "('Missing values by field: ', {'salary': 50, 'to_messages': 56, 'deferral_payments': 94, 'total_payments': 21, 'loan_advances': 125, 'bonus': 62, 'email_address': 35, 'restricted_stock_deferred': 110, 'total_stock_value': 20, 'shared_receipt_with_poi': 56, 'long_term_incentive': 74, 'exercised_stock_options': 38, 'from_messages': 56, 'other': 53, 'from_poi_to_this_person': 56, 'from_this_person_to_poi': 56, 'poi': 0, 'deferred_income': 90, 'expenses': 51, 'restricted_stock': 35, 'director_fees': 111})\n",
      "('Porcentage of Missing values by field: ', {'salary': 0.3424657534246575, 'to_messages': 0.3835616438356164, 'deferral_payments': 0.6438356164383562, 'total_payments': 0.14383561643835616, 'loan_advances': 0.8561643835616438, 'bonus': 0.4246575342465753, 'email_address': 0.23972602739726026, 'restricted_stock_deferred': 0.7534246575342466, 'total_stock_value': 0.136986301369863, 'shared_receipt_with_poi': 0.3835616438356164, 'long_term_incentive': 0.5068493150684932, 'exercised_stock_options': 0.2602739726027397, 'from_messages': 0.3835616438356164, 'other': 0.363013698630137, 'from_poi_to_this_person': 0.3835616438356164, 'from_this_person_to_poi': 0.3835616438356164, 'poi': 0.0, 'deferred_income': 0.6164383561643836, 'expenses': 0.3493150684931507, 'restricted_stock': 0.23972602739726026, 'director_fees': 0.7602739726027398})\n",
      "('Porcentage of Missing values by field: ', {'salary': 0.00684931506849315, 'to_messages': 0.0273972602739726, 'deferral_payments': 0.08904109589041095, 'total_payments': 0.0, 'loan_advances': 0.11643835616438356, 'bonus': 0.0136986301369863, 'email_address': 0.0, 'restricted_stock_deferred': 0.1232876712328767, 'total_stock_value': 0.0, 'shared_receipt_with_poi': 0.0273972602739726, 'long_term_incentive': 0.0410958904109589, 'exercised_stock_options': 0.0410958904109589, 'from_messages': 0.0273972602739726, 'other': 0.0, 'from_poi_to_this_person': 0.0273972602739726, 'from_this_person_to_poi': 0.0273972602739726, 'poi': 0.0, 'deferred_income': 0.04794520547945205, 'expenses': 0.0, 'restricted_stock': 0.00684931506849315, 'director_fees': 0.1232876712328767})\n"
     ]
    }
   ],
   "source": [
    "# number of features used\n",
    "print(\"Number of Features in dictionary: \",len(fields))\n",
    "print(\"\\n\")\n",
    "\n",
    "# are there features with many missing values?\n",
    "missing_values = {}\n",
    "missing_values_poi = {}\n",
    "\n",
    "for field in fields:\n",
    "    missing_values[field] = 0\n",
    "    missing_values_poi[field] = 0\n",
    "\n",
    "for person in data_dict.keys():\n",
    "    person = data_dict[person]\n",
    "    for field in fields:\n",
    "        if(person[field] == 'NaN'):\n",
    "            if(field in missing_values):\n",
    "                if(person[\"poi\"] == 1):\n",
    "                    missing_values_poi[field] += 1\n",
    "                else:\n",
    "                    missing_values[field] += 1\n",
    "\n",
    "print(\"Missing values by field: \",missing_values)\n",
    "\n",
    "for field in fields:\n",
    "    missing_values[field] /= (len(data_dict)*1.0)\n",
    "    missing_values_poi[field] /= (len(data_dict)*1.0)\n",
    "                \n",
    "print(\"Porcentage of Missing values by field: \",missing_values)\n",
    "print(\"Porcentage of Missing values by field: \",missing_values_poi)\n"
   ]
  },
  {
   "cell_type": "markdown",
   "metadata": {},
   "source": [
    "From the Missing Values analyse above we get that we can use the following fields: salary, poi, restricted_stock, to_messages, from_messages, shared_receipt_with_poi, from_this_person_to_poi, from_poi_to_this_person"
   ]
  },
  {
   "cell_type": "markdown",
   "metadata": {},
   "source": [
    "### Select Features"
   ]
  },
  {
   "cell_type": "code",
   "execution_count": 8,
   "metadata": {
    "collapsed": true
   },
   "outputs": [],
   "source": [
    "### Task 1: Select what features you'll use.\n",
    "### features_list is a list of strings, each of which is a feature name.\n",
    "### The first feature must be \"poi\".\n",
    "features_list = ['poi','salary', 'restricted_stock','bonus', \n",
    "                 'total_payments', 'total_stock_value','expenses',\n",
    "                 'to_messages', 'from_messages','shared_receipt_with_poi',\n",
    "                 'from_this_person_to_poi', 'from_poi_to_this_person','long_term_incentive','deferral_payments']\n",
    "data = featureFormat(data_dict, features_list)"
   ]
  },
  {
   "cell_type": "markdown",
   "metadata": {},
   "source": [
    "### Outliers"
   ]
  },
  {
   "cell_type": "code",
   "execution_count": 9,
   "metadata": {
    "collapsed": true
   },
   "outputs": [],
   "source": [
    "### Task 2: Remove outliers\n",
    "%matplotlib inline\n",
    "\n",
    "import matplotlib\n",
    "import numpy as np\n",
    "import matplotlib.pyplot as plt\n",
    "from pprint import pprint\n"
   ]
  },
  {
   "cell_type": "markdown",
   "metadata": {},
   "source": [
    "We will use only 2 finacial data. First we will analyze the salary data."
   ]
  },
  {
   "cell_type": "code",
   "execution_count": 10,
   "metadata": {},
   "outputs": [
    {
     "data": {
      "image/png": "[encoded data removed]",
      "text/plain": [
       "<matplotlib.figure.Figure at 0x1049e0d90>"
      ]
     },
     "metadata": {},
     "output_type": "display_data"
    }
   ],
   "source": [
    "# Salary outlier\n",
    "\n",
    "outliers = []\n",
    "for key in data_dict:\n",
    "    val = data_dict[key]['salary']\n",
    "    if val == 'NaN':\n",
    "        continue\n",
    "    outliers.append((key,int(val)))\n",
    "\n",
    "for point in data:\n",
    "    stock = point[2]\n",
    "    salary = point[1]\n",
    "    matplotlib.pyplot.scatter( salary, stock )\n",
    "\n",
    "matplotlib.pyplot.xlabel(\"salary\")\n",
    "matplotlib.pyplot.ylabel(\"restricted_stock\")\n",
    "matplotlib.pyplot.show()"
   ]
  },
  {
   "cell_type": "markdown",
   "metadata": {},
   "source": [
    "We can see that we have a big outlier in our data set. So lets see what it is."
   ]
  },
  {
   "cell_type": "code",
   "execution_count": 11,
   "metadata": {},
   "outputs": [
    {
     "name": "stdout",
     "output_type": "stream",
     "text": [
      "[('TOTAL', 26704229),\n",
      " ('SKILLING JEFFREY K', 1111258),\n",
      " ('LAY KENNETH L', 1072321)]\n"
     ]
    },
    {
     "data": {
      "image/png": "[encoded data removed]",
      "text/plain": [
       "<matplotlib.figure.Figure at 0x109fa8710>"
      ]
     },
     "metadata": {},
     "output_type": "display_data"
    }
   ],
   "source": [
    "pprint(sorted(outliers,key=lambda x:x[1],reverse=True)[:3])\n",
    "\n",
    "for point in data:\n",
    "    stock = point[2]\n",
    "    salary = point[1]\n",
    "    if(salary < 26704229):\n",
    "\t    matplotlib.pyplot.scatter( salary, stock,color=\"b\" )\n",
    "\n",
    "matplotlib.pyplot.xlabel(\"salary\")\n",
    "matplotlib.pyplot.ylabel(\"sock options\")\n",
    "matplotlib.pyplot.show()"
   ]
  },
  {
   "cell_type": "markdown",
   "metadata": {},
   "source": [
    "We got that our outlier was the TOTAL.And others seem fine."
   ]
  },
  {
   "cell_type": "code",
   "execution_count": 12,
   "metadata": {
    "collapsed": true
   },
   "outputs": [],
   "source": [
    "del data_dict[\"TOTAL\"]"
   ]
  },
  {
   "cell_type": "markdown",
   "metadata": {},
   "source": [
    "Then lets investigate the restricted_stock."
   ]
  },
  {
   "cell_type": "code",
   "execution_count": 13,
   "metadata": {},
   "outputs": [
    {
     "name": "stdout",
     "output_type": "stream",
     "text": [
      "[('BHATNAGAR SANJAY', -2604490),\n",
      " ('CHAN RONNIE', 32460),\n",
      " ('JAEDICKE ROBERT', 44093)]\n",
      "[('LAY KENNETH L', 14761694),\n",
      " ('WHITE JR THOMAS E', 13847074),\n",
      " ('PAI LOU L', 8453763)]\n"
     ]
    }
   ],
   "source": [
    "# investigate Outlier for restricted_stock\n",
    "outliers = []\n",
    "for key in data_dict:\n",
    "    val = data_dict[key]['restricted_stock']\n",
    "    if val == 'NaN':\n",
    "        continue\n",
    "    outliers.append((key,int(val)))\n",
    "    \n",
    "pprint(sorted(outliers,key=lambda x:x[1])[:3])\n",
    "pprint(sorted(outliers,key=lambda x:x[1],reverse=True)[:3])"
   ]
  },
  {
   "cell_type": "markdown",
   "metadata": {},
   "source": [
    "Seems that we do not have a outlier for restricted stock."
   ]
  },
  {
   "cell_type": "markdown",
   "metadata": {},
   "source": [
    "#### Question: \n",
    "Summarize for us the goal of this project and how machine learning is useful in trying to accomplish it. As part of your answer, give some background on the dataset and how it can be used to answer the project question. Were there any outliers in the data when you got it, and how did you handle those?  [relevant rubric items: “data exploration”, “outlier investigation”]"
   ]
  },
  {
   "cell_type": "markdown",
   "metadata": {},
   "source": [
    "#### Answer:"
   ]
  },
  {
   "cell_type": "markdown",
   "metadata": {},
   "source": [
    "The goal of this project is to succesfully identify the POIs of the Eron scandal. In order to do it I will use machine learning classify algorithm, that can throught the data identify patterns of the POI. In this project I will use the dataset contaning some financial data and  email data."
   ]
  },
  {
   "cell_type": "markdown",
   "metadata": {},
   "source": [
    "### Optimize Feature Selection/Engineering:\n",
    "- Create new features (related lesson: \"Feature Selection\"): \n",
    "\n",
    "At least one new feature is implemented. Justification for that feature is provided in the written response. The effect of that feature on final algorithm performance is tested or its strength is compared to other features in feature selection. The student is not required to include their new feature in their final feature set.\n",
    "\n",
    "- Intelligently select features (related lesson: \"Feature Selection\"):\n",
    "\n",
    "Univariate or recursive feature selection is deployed, or features are selected by hand (different combinations of features are attempted, and the performance is documented for each one). Features that are selected are reported and the number of features selected is justified. For an algorithm that supports getting the feature importances (e.g. decision tree) or feature scores (e.g. SelectKBest), those are documented as well.\n",
    "\n",
    "- Properly scale features (related lesson: \"Feature Scaling\")\n",
    "\n",
    "If algorithm calls for scaled features, feature scaling is deployed.\n",
    "   "
   ]
  },
  {
   "cell_type": "markdown",
   "metadata": {},
   "source": [
    "###### Creating new features"
   ]
  },
  {
   "cell_type": "code",
   "execution_count": 14,
   "metadata": {
    "collapsed": true
   },
   "outputs": [],
   "source": [
    "### Task 3: Create new feature(s)\n",
    "### Store to my_dataset for easy export below.\n",
    "my_dataset = data_dict\n"
   ]
  },
  {
   "cell_type": "code",
   "execution_count": 15,
   "metadata": {
    "collapsed": true
   },
   "outputs": [],
   "source": [
    "from __future__ import division\n",
    "# 'to_messages', 'from_messages', 'shared_receipt_with_poi', 'from_this_person_to_poi', 'from_poi_to_this_person'\n",
    "def compute_fraction_poi_total_messages(poi_messages, total_messages):\n",
    "    fraction_messages = 0.\n",
    "    \n",
    "    if(poi_messages !='NaN' and total_messages != 'NaN'):\n",
    "        fraction_messages = poi_messages/total_messages\n",
    "    \n",
    "    return fraction_messages\n",
    "\n",
    "def compute_fraction_from_poi_to_person(person_data):\n",
    "\n",
    "    qtd_messages_total = person_data['to_messages']\n",
    "    qtd_messages_from_poi = person_data['from_poi_to_this_person']\n",
    "    fraction_messages_from_poi = compute_fraction_poi_total_messages(qtd_messages_from_poi,qtd_messages_total)\n",
    "    \n",
    "    return fraction_messages_from_poi\n",
    "\n",
    "def compute_fraction_from_person_to_poi(person_data):\n",
    "    \n",
    "    qtd_messages_to_total = person_data['from_messages']\n",
    "    qtd_messages_to_poi = person_data['from_this_person_to_poi']\n",
    "    fraction_messages_to_poi = compute_fraction_poi_total_messages( qtd_messages_to_poi, qtd_messages_to_total)\n",
    "    \n",
    "    return fraction_messages_to_poi\n"
   ]
  },
  {
   "cell_type": "code",
   "execution_count": 16,
   "metadata": {},
   "outputs": [
    {
     "name": "stdout",
     "output_type": "stream",
     "text": [
      "(0.04708798017348203, 0.034482758620689655)\n",
      "(0.0, 0.0)\n",
      "(0.0, 0.0)\n",
      "(0.013089005235602094, 0.0)\n",
      "(0.03062200956937799, 0.65625)\n",
      "(0.0, 0.0)\n",
      "(0.0, 0.0)\n",
      "(0.024628450106157114, 0.5416666666666666)\n",
      "(0.01872340425531915, 0.013979496738117428)\n",
      "(0.049273021001615507, 0.21621621621621623)\n",
      "(0.078125, 1.0)\n",
      "(0.10810810810810811, 0.0)\n",
      "(0.010101010101010102, 0.14285714285714285)\n",
      "(0.013978088401964487, 0.34210526315789475)\n",
      "(0.0, 0.0)\n",
      "(0.0, 0.0)\n",
      "(0.13651877133105803, 0.275)\n",
      "(0.08823529411764706, 0.0)\n",
      "(0.09689922480620156, 0.3392857142857143)\n",
      "(0.0, 0.0)\n",
      "(0.0, 0.0)\n",
      "(0.02533532041728763, 0.0)\n",
      "(0.030222757375075255, 0.11226851851851852)\n",
      "(0.0, 0.0)\n",
      "(0.0, 0.0)\n",
      "(0.029183483390251473, 0.030958597538232)\n",
      "(0.0, 0.0)\n",
      "(0.010443864229765013, 0.0)\n",
      "(0.0, 0.0)\n",
      "(0.01431238332296204, 0.2)\n",
      "(0.02635542168674699, 0.5853658536585366)\n",
      "(0.0, 0.0)\n",
      "(0.01968557758031442, 0.08887865530739121)\n",
      "(0.006980802792321117, 0.3684210526315789)\n",
      "(0.0, 0.0)\n",
      "(0.0, 0.0)\n",
      "(0.030303030303030304, 0.037037037037037035)\n",
      "(0.0, 0.0)\n",
      "(0.01050420168067227, 0.0)\n",
      "(0.031746031746031744, 0.0)\n",
      "(0.017445917655268667, 0.009302325581395349)\n",
      "(0.0, 0.0)\n",
      "(0.02374202693125443, 0.2222222222222222)\n",
      "(0.07273729163796666, 0.15899419729206962)\n",
      "(0.0, 0.0)\n",
      "(0.0, 0.0)\n",
      "(0.0, 0.0)\n",
      "(0.0, 0.0)\n",
      "(0.0, 0.0)\n",
      "(0.06890459363957598, 0.0)\n",
      "(0.0, 0.0)\n",
      "(0.0048848108786058485, 0.053497942386831275)\n",
      "(0.008785691873235017, 0.25)\n",
      "(0.057777777777777775, 0.358974358974359)\n",
      "(0.0, 0.0)\n",
      "(0.16106442577030813, 0.05405405405405406)\n",
      "(0.0, 0.0)\n",
      "(0.03090214321315833, 0.04316546762589928)\n",
      "(0.02763592670471613, 0.07075127644055434)\n",
      "(0.0, 0.0625)\n",
      "(0.02133850630455868, 0.198435972629521)\n",
      "(0.0, 0.0)\n",
      "(0.0, 0.0)\n",
      "(0.0, 0.0)\n",
      "(0.0, 0.0)\n",
      "(0.028785396676807865, 0.4444444444444444)\n",
      "(0.0, 0.0)\n",
      "(0.016891891891891893, 0.28846153846153844)\n",
      "(0.06040268456375839, 0.07692307692307693)\n",
      "(0.0, 0.0)\n",
      "(0.0, 0.0)\n",
      "(0.02981651376146789, 0.0)\n",
      "(0.0, 0.0)\n",
      "(0.0, 0.0)\n",
      "(0.0, 0.0)\n",
      "(0.04489897730107259, 0.03142709943328181)\n",
      "(0.07534983853606028, 0.5555555555555556)\n",
      "(0.0, 0.0)\n",
      "(0.0010683760683760685, 0.5)\n",
      "(0.0, 0.0)\n",
      "(0.12208258527827648, 0.22171945701357465)\n",
      "(0.0, 0.0)\n",
      "(0.028532098610937303, 0.2231404958677686)\n",
      "(0.1172566371681416, 0.25)\n",
      "(0.0, 0.0)\n",
      "(0.0, 0.0)\n",
      "(0.0, 0.0)\n",
      "(0.07659738260200154, 0.1736111111111111)\n",
      "(0.04640883977900553, 0.2222222222222222)\n",
      "(0.008899500759713479, 0.011901447661469933)\n",
      "(0.0, 0.0)\n",
      "(0.0, 0.12121212121212122)\n",
      "(0.0, 0.0)\n",
      "(0.0, 0.0)\n",
      "(0.0, 0.0)\n",
      "(0.0242624758753791, 0.2777777777777778)\n",
      "(0.0, 0.0)\n",
      "(0.0636215334420881, 0.72)\n",
      "(0.0, 0.0)\n",
      "(0.0, 0.0)\n",
      "(0.0077951002227171495, 0.0)\n",
      "(0.0, 0.0)\n",
      "(0.0, 0.0)\n",
      "(0.010976948408342482, 0.05725699067909454)\n",
      "(0.0, 0.0)\n",
      "(0.055, 0.23333333333333334)\n",
      "(0.0, 0.0)\n",
      "(0.0, 0.0)\n",
      "(0.016195727084769126, 0.029612756264236904)\n",
      "(0.007653061224489796, 0.04411764705882353)\n",
      "(0.0, 0.0)\n",
      "(0.0, 0.0)\n",
      "(0.008748317631224764, 0.024390243902439025)\n",
      "(0.0, 0.0)\n",
      "(0.048678720445062586, 0.14705882352941177)\n",
      "(0.0, 0.0)\n",
      "(0.0, 0.0)\n",
      "(0.0, 0.034482758620689655)\n",
      "(0.09294871794871795, 0.4666666666666667)\n",
      "(0.0, 0.0)\n",
      "(0.0, 0.0)\n",
      "(0.005018248175182482, 0.044444444444444446)\n",
      "(0.04784688995215311, 0.6136363636363636)\n",
      "(0.056818181818181816, 0.21428571428571427)\n",
      "(0.0, 0.0)\n",
      "(0.0, 0.0)\n",
      "(0.11858475894245724, 0.2222222222222222)\n",
      "(0.029344337459880788, 0.022002200220022004)\n",
      "(0.07389312977099237, 0.2857142857142857)\n",
      "(0.0, 0.0)\n",
      "(0.0, 0.0)\n",
      "(0.01321253303133258, 0.03581526861451461)\n",
      "(0.0, 0.0)\n",
      "(0.023931623931623933, 0.49333333333333335)\n",
      "(0.02232518955349621, 0.2459016393442623)\n",
      "(0.0, 0.0)\n",
      "(0.056451612903225805, 0.2631578947368421)\n",
      "(0.021739130434782608, 0.5789473684210527)\n",
      "(0.005256241787122208, 0.0)\n",
      "(0.04428044280442804, 0.06742640075973409)\n",
      "(0.0, 0.0)\n",
      "(0.0306553911205074, 0.24489795918367346)\n",
      "(0.0, 0.0)\n",
      "(0.21734104046242775, 0.5)\n",
      "(0.05956471935853379, 0.375)\n"
     ]
    }
   ],
   "source": [
    "# Engineer a new feature\n",
    "\n",
    "\n",
    "for person_name in my_dataset:\n",
    "    person_data = my_dataset[person_name]\n",
    "    person_data[\"fraction_messages_from_poi\"] = compute_fraction_from_poi_to_person(person_data);\n",
    "    person_data[\"fraction_messages_to_poi\"] = compute_fraction_from_person_to_poi(person_data);\n",
    "    print(person_data[\"fraction_messages_from_poi\"],person_data[\"fraction_messages_to_poi\"])\n",
    "    \n"
   ]
  },
  {
   "cell_type": "code",
   "execution_count": 17,
   "metadata": {},
   "outputs": [
    {
     "name": "stdout",
     "output_type": "stream",
     "text": [
      "{'to_messages': 566, 'fraction_messages_from_poi': 0.06890459363957598, 'deferral_payments': 'NaN', 'expenses': 56301, 'fraction_messages_to_poi': 0.0, 'poi': False, 'deferred_income': -5104, 'email_address': 'james.bannantine@enron.com', 'long_term_incentive': 'NaN', 'restricted_stock_deferred': -560222, 'shared_receipt_with_poi': 465, 'loan_advances': 'NaN', 'from_messages': 29, 'other': 864523, 'director_fees': 'NaN', 'bonus': 'NaN', 'total_stock_value': 5243487, 'from_poi_to_this_person': 39, 'from_this_person_to_poi': 0, 'restricted_stock': 1757552, 'salary': 477, 'total_payments': 916197, 'exercised_stock_options': 4046157}\n"
     ]
    }
   ],
   "source": [
    "print(my_dataset['BANNANTINE JAMES M'])"
   ]
  },
  {
   "cell_type": "code",
   "execution_count": 18,
   "metadata": {
    "collapsed": true
   },
   "outputs": [],
   "source": [
    "new_features = [\"fraction_messages_from_poi\",\"fraction_messages_to_poi\"]\n",
    "\n",
    "for feature_name in new_features:\n",
    "    if feature_name  not in features_list:\n",
    "        features_list.append(feature_name)"
   ]
  },
  {
   "cell_type": "code",
   "execution_count": 19,
   "metadata": {},
   "outputs": [
    {
     "data": {
      "image/png": "[encoded data removed]",
      "text/plain": [
       "<matplotlib.figure.Figure at 0x10a2fc310>"
      ]
     },
     "metadata": {},
     "output_type": "display_data"
    }
   ],
   "source": [
    "### plot new features\n",
    "fraction_list = ['poi','fraction_messages_from_poi','fraction_messages_to_poi']\n",
    "data_fraction = featureFormat(my_dataset,fraction_list)\n",
    "for point in data_fraction:\n",
    "    from_point = point[1]\n",
    "    to_point = point[2]\n",
    "    if point[0] == 1:\n",
    "        plt.scatter(from_point,to_point,color=\"r\",marker=\"*\")\n",
    "    else:\n",
    "        plt.scatter(from_point, to_point,color=\"b\")\n",
    "plt.ylabel(\"From this person to Poi\")\n",
    "plt.xlabel('From Poi to this person')\n",
    "plt.show()"
   ]
  },
  {
   "cell_type": "markdown",
   "metadata": {},
   "source": [
    "##### Feature selection"
   ]
  },
  {
   "cell_type": "code",
   "execution_count": 20,
   "metadata": {
    "collapsed": true
   },
   "outputs": [],
   "source": [
    "# features_list = ['poi','salary', 'restricted_stock','bonus', \n",
    "#                  'total_payments', 'total_stock_value','expenses',\n",
    "#                  'fraction_messages_from_poi','fraction_messages_to_poi','from_this_person_to_poi', 'from_poi_to_this_person']"
   ]
  },
  {
   "cell_type": "code",
   "execution_count": 21,
   "metadata": {},
   "outputs": [
    {
     "name": "stdout",
     "output_type": "stream",
     "text": [
      "('Initial data shape:', (144, 16))\n",
      "('Feature_list:', ['poi', 'salary', 'restricted_stock', 'bonus', 'total_payments', 'total_stock_value', 'expenses', 'to_messages', 'from_messages', 'shared_receipt_with_poi', 'from_this_person_to_poi', 'from_poi_to_this_person', 'long_term_incentive', 'deferral_payments', 'fraction_messages_from_poi', 'fraction_messages_to_poi'])\n"
     ]
    }
   ],
   "source": [
    "\n",
    "data = featureFormat(my_dataset, features_list, sort_keys = True)\n",
    "labels, features = targetFeatureSplit(data)\n",
    "print(\"Initial data shape:\", data.shape)\n",
    "print(\"Feature_list:\", features_list)"
   ]
  },
  {
   "cell_type": "code",
   "execution_count": 22,
   "metadata": {},
   "outputs": [
    {
     "data": {
      "text/plain": [
       "((144, 16), (144, 15))"
      ]
     },
     "execution_count": 22,
     "metadata": {},
     "output_type": "execute_result"
    }
   ],
   "source": [
    "features = np.array(features)\n",
    "\n",
    "data.shape,features.shape"
   ]
  },
  {
   "cell_type": "code",
   "execution_count": 23,
   "metadata": {
    "collapsed": true
   },
   "outputs": [],
   "source": [
    "import numpy as np\n",
    "import pandas as pd \n",
    "data_pd = pd.DataFrame(data=data)\n",
    "corr = data_pd.corr()"
   ]
  },
  {
   "cell_type": "code",
   "execution_count": 24,
   "metadata": {},
   "outputs": [
    {
     "data": {
      "text/plain": [
       "(16, 16)"
      ]
     },
     "execution_count": 24,
     "metadata": {},
     "output_type": "execute_result"
    }
   ],
   "source": [
    "corr.shape"
   ]
  },
  {
   "cell_type": "code",
   "execution_count": 25,
   "metadata": {},
   "outputs": [
    {
     "name": "stdout",
     "output_type": "stream",
     "text": [
      "Requirement already satisfied: seaborn in /Users/andreyai/anaconda/envs/bunnies/lib/python2.7/site-packages\n"
     ]
    }
   ],
   "source": [
    "%%bash\n",
    "pip install seaborn"
   ]
  },
  {
   "cell_type": "code",
   "execution_count": 26,
   "metadata": {},
   "outputs": [
    {
     "data": {
      "text/plain": [
       "<matplotlib.axes._subplots.AxesSubplot at 0x109e99e50>"
      ]
     },
     "execution_count": 26,
     "metadata": {},
     "output_type": "execute_result"
    },
    {
     "data": {
      "image/png": "[encoded data removed]",
      "text/plain": [
       "<matplotlib.figure.Figure at 0x109fbbb10>"
      ]
     },
     "metadata": {},
     "output_type": "display_data"
    }
   ],
   "source": [
    "import seaborn as sns\n",
    "from matplotlib import pyplot\n",
    "\n",
    "a4_dims = (11.7, 8.27)\n",
    "fig, ax = pyplot.subplots(figsize=a4_dims)\n",
    "sns.heatmap(corr,ax=ax,annot=True, fmt=\".2f\")"
   ]
  },
  {
   "cell_type": "code",
   "execution_count": 27,
   "metadata": {},
   "outputs": [
    {
     "name": "stdout",
     "output_type": "stream",
     "text": [
      "('Final shape of parameters', (144, 5))\n",
      "('Feature scores:', array([ 18.57570327,   9.34670079,  21.06000171,   8.86672154,\n",
      "        24.46765405,   6.23420114,   1.69882435,   0.1641645 ,\n",
      "         8.74648553,   2.42650813,   5.34494152,  10.07245453,\n",
      "         0.21705893,   3.21076192,  16.64170707]))\n"
     ]
    }
   ],
   "source": [
    "# Feature selection - selectionkbest, select percentile,lasso regression\n",
    "from sklearn.feature_selection import SelectPercentile,SelectKBest,chi2\n",
    "\n",
    "selector = SelectKBest(k=5)\n",
    "new_data = selector.fit_transform(features,labels)\n",
    "scores_KB = selector.scores_\n",
    "\n",
    "print(\"Final shape of parameters\",new_data.shape)\n",
    "print(\"Feature scores:\",selector.scores_)\n",
    "                                                                                                                                                                                                                   "
   ]
  },
  {
   "cell_type": "code",
   "execution_count": 28,
   "metadata": {},
   "outputs": [
    {
     "name": "stdout",
     "output_type": "stream",
     "text": [
      "[ 18.57570327   9.34670079  21.06000171   8.86672154  24.46765405\n",
      "   6.23420114   1.69882435   0.1641645    8.74648553   2.42650813\n",
      "   5.34494152  10.07245453   0.21705893   3.21076192  16.64170707]\n",
      "[ 4  2  0 14 11  1  3  8  5 10 13  9  6 12  7]\n",
      "Feature Ranking\n",
      "1 feature total_stock_value (24.4676540475)\n",
      "2 feature bonus (21.0600017075)\n",
      "3 feature salary (18.575703268)\n",
      "4 feature fraction_messages_to_poi (16.6417070705)\n",
      "5 feature long_term_incentive (10.0724545294)\n",
      "6 feature restricted_stock (9.34670079105)\n",
      "7 feature total_payments (8.86672153711)\n",
      "8 feature shared_receipt_with_poi (8.74648553213)\n",
      "9 feature expenses (6.23420114051)\n",
      "10 feature from_poi_to_this_person (5.34494152315)\n",
      "11 feature fraction_messages_from_poi (3.21076191697)\n",
      "12 feature from_this_person_to_poi (2.42650812724)\n",
      "13 feature to_messages (1.69882434858)\n",
      "14 feature deferral_payments (0.21705893034)\n",
      "15 feature from_messages (0.164164498234)\n"
     ]
    }
   ],
   "source": [
    "import numpy as np\n",
    "\n",
    "scores = selector.scores_\n",
    "print(scores)\n",
    "indices = np.argsort(scores)[::-1]\n",
    "print(indices)\n",
    "print 'Feature Ranking'\n",
    "for i in range(len(features_list)-1): \n",
    "    print \"{} feature {} ({})\".format(i+1,features_list[indices[i]+1],scores[indices[i]])"
   ]
  },
  {
   "cell_type": "code",
   "execution_count": 29,
   "metadata": {
    "collapsed": true
   },
   "outputs": [],
   "source": [
    "features_list = ['total_stock_value','bonus','salary','fraction_messages_to_poi','long_term_incentive','restricted_stock','total_payments'] "
   ]
  },
  {
   "cell_type": "markdown",
   "metadata": {},
   "source": [
    "I used SelectBestK with k = 3. Then I stayed with the top 3 features: ['salary','restricted_stock','bonus']. I also noticed that they all are financial data. With them I got in a DecisionTree an accuracy of 0.83, a recall of 0.44 and a precision of 0.8."
   ]
  },
  {
   "cell_type": "markdown",
   "metadata": {},
   "source": [
    "\n",
    "#### Feature scaling"
   ]
  },
  {
   "cell_type": "code",
   "execution_count": 30,
   "metadata": {
    "collapsed": true
   },
   "outputs": [],
   "source": [
    "# Feature scalling for restricted stock\n",
    "# from sklearn.preprocessing import StandardScaler\n",
    "\n",
    "# def standarlize_matrix(arr):\n",
    "#     standardScaler = StandardScaler()\n",
    "#     arr_standerized = standardScaler.fit_transform(arr)\n",
    "#     return arr;\n",
    "\n",
    "# data = featureFormat(my_dataset, features_list, sort_keys = True)\n",
    "\n",
    "# new_data = standarlize_matrix(data);"
   ]
  },
  {
   "cell_type": "code",
   "execution_count": 31,
   "metadata": {
    "collapsed": true
   },
   "outputs": [],
   "source": [
    "# line = 0\n",
    "# for row in my_dataset:\n",
    "#     i = 0;\n",
    "#     for feature in features_list:\n",
    "#         if(line < len(new_data)):\n",
    "#             my_dataset[row][feature] = new_data[line][i]\n",
    "#         i += 1;\n",
    "#     line += 1"
   ]
  },
  {
   "cell_type": "markdown",
   "metadata": {},
   "source": [
    "I tried two types of feature scalling: min-max (normalization) and also standalization. I notice that with min-max my accuracy went worse than without feature scalling. Then I tried standardlization and it performed better than without it improving our accuracy from 0.83 to near 0.86. In my opinion, it is due to the way that min-max treats outliers."
   ]
  },
  {
   "cell_type": "markdown",
   "metadata": {},
   "source": [
    "#### Question: \n",
    "What features did you end up using in your POI identifier, and what selection process did you use to pick them? Did you have to do any scaling? Why or why not? As part of the assignment, you should attempt to engineer your own feature that does not come ready-made in the dataset -- explain what feature you tried to make, and the rationale behind it. (You do not necessarily have to use it in the final analysis, only engineer and test it.) In your feature selection step, if you used an algorithm like a decision tree, please also give the feature importances of the features that you use, and if you used an automated feature selection function like SelectKBest, please report the feature scores and reasons for your choice of parameter values.  [relevant rubric items: “create new features”, “intelligently select features”, “properly scale features”]\n",
    "\n",
    "\n",
    "#### Answer\n",
    "\n",
    "I end up using in my POI identifier the features 'poi', 'salary', 'restricted_stock', 'bonus', 'total_payments', 'total_stock_value' to select them I used the SelectKBest and I end up latter scalling them in oder to to standarlize the features. I created two new variables fraction of emails received from POI and fraction of emails sent to poi. I noticed that the features that helped me to identify poi were the financial features.  "
   ]
  },
  {
   "cell_type": "markdown",
   "metadata": {},
   "source": [
    "## Pick an Algorithm\n",
    "\n",
    "- Pick an algorithm (related lessons: \"Naive Bayes\" through \"Choose Your Own Algorithm\")\n",
    "\n",
    "At least two different algorithms are attempted and their performance is compared, with the best performing one used in the final analysis.\n"
   ]
  },
  {
   "cell_type": "markdown",
   "metadata": {},
   "source": [
    "Let's first separate between train and test data set."
   ]
  },
  {
   "cell_type": "code",
   "execution_count": 32,
   "metadata": {
    "collapsed": true
   },
   "outputs": [],
   "source": [
    "my_data = featureFormat(my_dataset, features_list, sort_keys = True)\n",
    "\n",
    "# Train and test\n",
    "from sklearn.model_selection import train_test_split\n",
    "features_train, features_test, labels_train, labels_test = \\\n",
    "    train_test_split(features, labels, test_size=0.3, random_state=42)"
   ]
  },
  {
   "cell_type": "code",
   "execution_count": 33,
   "metadata": {
    "collapsed": true
   },
   "outputs": [],
   "source": [
    "#Function that will help to compute metrics.\n",
    "from sklearn.metrics import accuracy_score,precision_score,recall_score\n",
    "\n",
    "def compute_metrics(predict,labels_test):\n",
    "\n",
    "    accuracy = accuracy_score(predict,labels_test);\n",
    "    recall = recall_score(predict,labels_test);\n",
    "    precision = precision_score(predict,labels_test);\n",
    "\n",
    "    print \"Accuracy Score: {}%\".format(accuracy) + \" Recall Score: {}%\".format(recall) + \" Precision Score: {}%\".format(precision);"
   ]
  },
  {
   "cell_type": "markdown",
   "metadata": {},
   "source": [
    "Then we will peak an algorithm.\n",
    "I will try to fit with:\n",
    "    - Knn\n",
    "    - Decision Tree\n",
    "    - Random Forest\n",
    "    - Ada Boost"
   ]
  },
  {
   "cell_type": "code",
   "execution_count": 34,
   "metadata": {},
   "outputs": [
    {
     "name": "stdout",
     "output_type": "stream",
     "text": [
      "Accuracy Score: 0.886363636364% Recall Score: 0.5% Precision Score: 0.4%\n"
     ]
    }
   ],
   "source": [
    "### Task 4: Try a varity of classifiers\n",
    "### Please name your classifier clf for easy export below.\n",
    "### Note that if you want to do PCA or other multi-stage operations,\n",
    "### you'll need to use Pipelines. For more info:\n",
    "### http://scikit-learn.org/stable/modules/pipeline.html\n",
    "\n",
    "# Provided to give you a starting point. Try a variety of classifiers.\n",
    "from sklearn.naive_bayes import GaussianNB\n",
    "clf = GaussianNB()\n",
    "clf.fit(features_train,labels_train)\n",
    "predict = clf.predict(features_test)\n",
    "compute_metrics(predict,labels_test);"
   ]
  },
  {
   "cell_type": "code",
   "execution_count": 35,
   "metadata": {},
   "outputs": [
    {
     "name": "stdout",
     "output_type": "stream",
     "text": [
      "Accuracy Score: 0.886363636364% Recall Score: 0.5% Precision Score: 0.4%\n"
     ]
    }
   ],
   "source": [
    "from sklearn.neighbors import KNeighborsClassifier\n",
    "clf = KNeighborsClassifier(n_neighbors=3)\n",
    "clf.fit(features_train,labels_train)\n",
    "predict = clf.predict(features_test)\n",
    "compute_metrics(predict,labels_test);"
   ]
  },
  {
   "cell_type": "code",
   "execution_count": 36,
   "metadata": {
    "collapsed": true
   },
   "outputs": [],
   "source": [
    "#Decision Tree\n",
    "from sklearn.tree import DecisionTreeClassifier\n",
    "\n",
    "clf = DecisionTreeClassifier()\n",
    "clf.fit(features_train,labels_train)\n",
    "\n",
    "predict = clf.predict(features_test)"
   ]
  },
  {
   "cell_type": "code",
   "execution_count": 37,
   "metadata": {},
   "outputs": [
    {
     "name": "stdout",
     "output_type": "stream",
     "text": [
      "Accuracy Score: 0.818181818182% Recall Score: 0.2% Precision Score: 0.2%\n",
      "(array([ 0.,  0.,  0.,  0.,  0.,  0.,  0.,  0.,  0.,  0.,  0.,  1.,  0.,\n",
      "        0.,  0.,  1.,  0.,  0.,  0.,  1.,  0.,  0.,  0.,  0.,  0.,  0.,\n",
      "        0.,  0.,  0.,  0.,  0.,  0.,  0.,  0.,  0.,  0.,  1.,  0.,  0.,\n",
      "        0.,  0.,  0.,  1.,  0.]), [0.0, 0.0, 0.0, 0.0, 0.0, 0.0, 0.0, 1.0, 0.0, 0.0, 0.0, 0.0, 0.0, 0.0, 0.0, 0.0, 0.0, 0.0, 0.0, 0.0, 0.0, 0.0, 0.0, 0.0, 0.0, 0.0, 0.0, 0.0, 1.0, 0.0, 1.0, 0.0, 0.0, 0.0, 0.0, 0.0, 1.0, 0.0, 1.0, 0.0, 0.0, 0.0, 0.0, 0.0])\n"
     ]
    }
   ],
   "source": [
    "compute_metrics(predict,labels_test);\n",
    "print(predict,labels_test);"
   ]
  },
  {
   "cell_type": "code",
   "execution_count": 38,
   "metadata": {},
   "outputs": [
    {
     "name": "stdout",
     "output_type": "stream",
     "text": [
      "Accuracy Score: 0.818181818182% Recall Score: 0.2% Precision Score: 0.2%\n"
     ]
    }
   ],
   "source": [
    "from sklearn.ensemble import AdaBoostClassifier\n",
    "clf = AdaBoostClassifier(n_estimators=100)\n",
    "clf.fit(features_train,labels_train)\n",
    "predict = clf.predict(features_test)\n",
    "compute_metrics(predict,labels_test);"
   ]
  },
  {
   "cell_type": "code",
   "execution_count": 39,
   "metadata": {},
   "outputs": [
    {
     "name": "stdout",
     "output_type": "stream",
     "text": [
      "Accuracy Score: 0.886363636364% Recall Score: 0.0% Precision Score: 0.0%\n"
     ]
    },
    {
     "name": "stderr",
     "output_type": "stream",
     "text": [
      "/Users/andreyai/anaconda/envs/bunnies/lib/python2.7/site-packages/sklearn/metrics/classification.py:1115: UndefinedMetricWarning: Recall is ill-defined and being set to 0.0 due to no true samples.\n",
      "  'recall', 'true', average, warn_for)\n"
     ]
    }
   ],
   "source": [
    "from sklearn.ensemble import RandomForestClassifier\n",
    "clf = RandomForestClassifier(n_estimators=100)\n",
    "clf.fit(features_train,labels_train)\n",
    "predict = clf.predict(features_test)\n",
    "compute_metrics(predict,labels_test);"
   ]
  },
  {
   "cell_type": "markdown",
   "metadata": {},
   "source": [
    "#### Question:\n",
    "What algorithm did you end up using? What other one(s) did you try? How did model performance differ between algorithms?  [relevant rubric item: “pick an algorithm”]"
   ]
  },
  {
   "cell_type": "markdown",
   "metadata": {},
   "source": [
    "#### Answer:"
   ]
  },
  {
   "cell_type": "markdown",
   "metadata": {
    "collapsed": true
   },
   "source": [
    "I tried to use knn, naive bayes, decision trees and some ensembles classifiers like adaboost and random forest. I noticed that with knn. I had a better accuracy so I picked as my final algorithm."
   ]
  },
  {
   "cell_type": "markdown",
   "metadata": {},
   "source": [
    "## Tune an Algorithm\n",
    "\n",
    "- Discuss parameter tuning and its importance.:\n",
    "\n",
    "Response addresses what it means to perform parameter tuning and why it is important.\n",
    "\n",
    "- Tune the algorithm (related lesson: \"Validation\"):\n",
    "\n",
    "At least one important parameter tuned with at least 3 settings investigated systematically, or any of the following are true:\n",
    "\n",
    "GridSearchCV used for parameter tuning\n",
    "Several parameters tuned\n",
    "Parameter tuning incorporated into algorithm selection (i.e. parameters tuned for more than one algorithm, and best algorithm-tune combination selected for final analysis).\n",
    "\n",
    "\n",
    "- Algorithm Performance\n",
    "\n",
    "When tester.py is used to evaluate performance, precision and recall are both at least 0.3.\n",
    "\n",
    "- Validation Strategy (related lesson \"Validation\")\n",
    "\n",
    "Performance of the final algorithm selected is assessed by splitting the data into training and testing sets or through the use of cross validation, noting the specific type of validation performed. \n"
   ]
  },
  {
   "cell_type": "code",
   "execution_count": 40,
   "metadata": {
    "collapsed": true
   },
   "outputs": [],
   "source": [
    "from sklearn.model_selection import StratifiedKFold,GridSearchCV\n",
    "\n",
    "def init_cross_validation(train_reduced, labels):\n",
    "    \n",
    "    cross_validation = StratifiedKFold(n_splits=10)\n",
    "    cross_validation.get_n_splits(train_reduced, labels)\n",
    "    \n",
    "    return cross_validation;\n",
    "\n",
    "def generate_grid_search_model(model,parameters,train_reduced,labels):\n",
    "    \n",
    "    cross_validation = init_cross_validation(train_reduced, labels);\n",
    "    \n",
    "    grid_search = GridSearchCV(model,\n",
    "                               scoring='accuracy',\n",
    "                               param_grid = parameters,\n",
    "                               cv = cross_validation)\n",
    "\n",
    "    grid_search.fit(train_reduced, labels)\n",
    "    model = grid_search\n",
    "    parameters = grid_search.best_params_\n",
    "\n",
    "    print('Best score: {}'.format(grid_search.best_score_))\n",
    "    print('Best parameters: {}'.format(grid_search.best_params_))\n",
    "    \n",
    "    return model"
   ]
  },
  {
   "cell_type": "code",
   "execution_count": 41,
   "metadata": {
    "collapsed": true
   },
   "outputs": [],
   "source": [
    "def create_KNeighbors(train_reduced,labels,run_grid_search=False):\n",
    "    \n",
    "    if run_grid_search:\n",
    "        \n",
    "        parameter_grid = {\n",
    "            'n_neighbors' : [3,4,5],\n",
    "            'weights' : ['distance','uniform'],\n",
    "            'leaf_size': [10,20,30],\n",
    "            'algorithm' : ['auto', 'ball_tree', 'kd_tree', 'brute'],\n",
    "            'p': [1,2,3]\n",
    "        }\n",
    "        clf =  KNeighborsClassifier()\n",
    "        clf = generate_grid_search_model(clf,parameter_grid,train_reduced,labels)\n",
    "    else: \n",
    "        parameters = {'n_neighbors': 4, 'weights': 'uniform', 'leaf_size': 10, 'algorithm': 'auto', 'p': 2}\n",
    "\n",
    "        clf = KNeighborsClassifier(**parameters)\n",
    "        clf.fit(train_reduced, labels)\n",
    "\n",
    "    return clf"
   ]
  },
  {
   "cell_type": "code",
   "execution_count": 51,
   "metadata": {
    "collapsed": true
   },
   "outputs": [],
   "source": [
    "def create_random_forest(train_reduced,labels,run_grid_search=False):\n",
    "    \n",
    "    if run_grid_search:\n",
    "        \n",
    "        parameter_grid = {\n",
    "            'max_depth' : [4, 6, 8],\n",
    "            'n_estimators': [50,1000],\n",
    "            'max_features': ['sqrt', 'auto', 'log2'],\n",
    "            'min_samples_split': [3, 10],\n",
    "            'min_samples_leaf': [1, 3, 10],\n",
    "            'bootstrap': [True, False],\n",
    "        }\n",
    "        clf = RandomForestClassifier()\n",
    "        clf = generate_grid_search_model(clf,parameter_grid,train_reduced,labels)\n",
    "    else: \n",
    "        parameters = {'bootstrap': False, 'max_depth': 6, 'max_features': 'sqrt',\n",
    "                      'min_samples_leaf': 1, 'min_samples_split': 10, 'n_estimators': 100}\n",
    "\n",
    "        clf = RandomForestClassifier(**parameters)\n",
    "        clf.fit(train_reduced, labels)\n",
    "\n",
    "    return clf"
   ]
  },
  {
   "cell_type": "code",
   "execution_count": 52,
   "metadata": {},
   "outputs": [],
   "source": [
    "clf =  create_KNeighbors(features,labels,run_grid_search=False)\n",
    "clf =  create_random_forest(features,labels,run_grid_search=False)"
   ]
  },
  {
   "cell_type": "markdown",
   "metadata": {},
   "source": [
    "#### Question\n",
    "What does it mean to tune the parameters of an algorithm, and what can happen if you don’t do this well?  How did you tune the parameters of your particular algorithm? What parameters did you tune? (Some algorithms do not have parameters that you need to tune -- if this is the case for the one you picked, identify and briefly explain how you would have done it for the model that was not your final choice or a different model that does utilize parameter tuning, e.g. a decision tree classifier).  [relevant rubric items: “discuss parameter tuning”, “tune the algorithm”]"
   ]
  },
  {
   "cell_type": "markdown",
   "metadata": {},
   "source": [
    "#### Answer:"
   ]
  },
  {
   "cell_type": "markdown",
   "metadata": {
    "collapsed": true
   },
   "source": [
    "Tuning the algorithm means finding the best parameters for a certain model, that gives a better results. \n",
    "I tuned my particular algorithm with GridSearchCV. For my knn model I tuned max_depth, n_estimators, max_features, min_samples_split, min_samples_leaf and boostrap. And the final result was "
   ]
  },
  {
   "cell_type": "markdown",
   "metadata": {},
   "source": [
    "### Validate and Evaluate\n",
    "- Usage of Evaluation Metrics (related lesson: \"Evaluation Metrics\")\n",
    "\t\n",
    "At least two appropriate metrics are used to evaluate algorithm performance (e.g. precision and recall), and the student articulates what those metrics measure in context of the project task.\n",
    "\n",
    "- Discuss validation and its importance.\n",
    "\n",
    "Response addresses what validation is and why it is important.\n"
   ]
  },
  {
   "cell_type": "markdown",
   "metadata": {},
   "source": [
    "Evaluate"
   ]
  },
  {
   "cell_type": "code",
   "execution_count": 49,
   "metadata": {},
   "outputs": [
    {
     "name": "stdout",
     "output_type": "stream",
     "text": [
      "Accuracy Score: 0.977272727273% Recall Score: 1.0% Precision Score: 0.8%\n"
     ]
    }
   ],
   "source": [
    "predict = clf.predict(features_test)\n",
    "compute_metrics(predict,labels_test);"
   ]
  },
  {
   "cell_type": "markdown",
   "metadata": {},
   "source": [
    "#### Question\n",
    "What is validation, and what’s a classic mistake you can make if you do it wrong? How did you validate your analysis?  [relevant rubric items: “discuss validation”, “validation strategy”]"
   ]
  },
  {
   "cell_type": "markdown",
   "metadata": {},
   "source": [
    "#### Answer:"
   ]
  },
  {
   "cell_type": "markdown",
   "metadata": {},
   "source": [
    "Validation process is when you divided your dataset into train, test datasets. A classic mistake is to not divide into these to dataset and use the entire data to train your model. I validade my model using a croess-validation (that means dividing my dataset into small chucks and using most of them to train and a chuck to test and then repeat the process).To validate my model I used a  k-fold = 5."
   ]
  },
  {
   "cell_type": "markdown",
   "metadata": {},
   "source": [
    "#### Question: \n",
    "\n",
    "Give at least 2 evaluation metrics and your average performance for each of them.  Explain an interpretation of your metrics that says something human-understandable about your algorithm’s performance. [relevant rubric item: “usage of evaluation metrics”]"
   ]
  },
  {
   "cell_type": "markdown",
   "metadata": {},
   "source": [
    "#### Answer:"
   ]
  },
  {
   "cell_type": "markdown",
   "metadata": {},
   "source": [
    " And also to validate I used the accuracy, reacall and prediction socer. In my final model I got Accuracy Score: 0.95652173913% Recall Score: 1.0% Precision Score: 0.5%."
   ]
  },
  {
   "cell_type": "markdown",
   "metadata": {},
   "source": [
    "## Exporting Model"
   ]
  },
  {
   "cell_type": "code",
   "execution_count": 53,
   "metadata": {
    "collapsed": true
   },
   "outputs": [],
   "source": [
    "\n",
    "### Task 6: Dump your classifier, dataset, and features_list so anyone can\n",
    "### check your results. You do not need to change anything below, but make sure\n",
    "### that the version of poi_id.py that you submit can be run on its own and\n",
    "### generates the necessary .pkl files for validating your results.\n",
    "features_list_final = ['poi'] + features_list\n",
    "dump_classifier_and_data(clf, my_dataset, features_list_final)"
   ]
  },
  {
   "cell_type": "code",
   "execution_count": null,
   "metadata": {
    "collapsed": true
   },
   "outputs": [],
   "source": []
  }
 ],
 "metadata": {
  "kernelspec": {
   "display_name": "Python 2",
   "language": "python",
   "name": "python2"
  },
  "language_info": {
   "codemirror_mode": {
    "name": "ipython",
    "version": 2
   },
   "file_extension": ".py",
   "mimetype": "text/x-python",
   "name": "python",
   "nbconvert_exporter": "python",
   "pygments_lexer": "ipython2",
   "version": "2.7.13"
  }
 },
 "nbformat": 4,
 "nbformat_minor": 2
}
