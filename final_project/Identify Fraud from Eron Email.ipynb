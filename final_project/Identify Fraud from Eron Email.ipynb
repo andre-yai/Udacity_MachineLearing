{
 "cells": [
  {
   "cell_type": "markdown",
   "metadata": {},
   "source": [
    "# Identify fraud from Eron Email"
   ]
  },
  {
   "cell_type": "markdown",
   "metadata": {},
   "source": [
    "## Context \n",
    "\n",
    "In 2000, Enron was one of the largest companies in the United States. By 2002, it had collapsed into bankruptcy due to widespread corporate fraud. In the resulting Federal investigation, a significant amount of typically confidential information entered into the public record, including tens of thousands of emails and detailed financial data for top executives. In this project, you will play detective, and put your new skills to use by building a person of interest identifier based on financial and email data made public as a result of the Enron scandal. To assist you in your detective work, we've combined this data with a hand-generated list of persons of interest in the fraud case, which means individuals who were indicted, reached a settlement or plea deal with the government, or testified in exchange for prosecution immunity."
   ]
  },
  {
   "cell_type": "markdown",
   "metadata": {},
   "source": [
    "### The Dataset\n",
    "\n",
    "As preprocessing to this project, we've combined the Enron email and financial data into a dictionary, where each key-value pair in the dictionary corresponds to one person. The dictionary key is the person's name, and the value is another dictionary, which contains the names of all the features and their values for that person. The features in the data fall into three major types, namely financial features, email features and POI labels.\n",
    "\n",
    "financial features: ['salary', 'deferral_payments', 'total_payments', 'loan_advances', 'bonus', 'restricted_stock_deferred', 'deferred_income', 'total_stock_value', 'expenses', 'exercised_stock_options', 'other', 'long_term_incentive', 'restricted_stock', 'director_fees'] (all units are in US dollars)\n",
    "\n",
    "email features: ['to_messages', 'email_address', 'from_poi_to_this_person', 'from_messages', 'from_this_person_to_poi', 'shared_receipt_with_poi'] (units are generally number of emails messages; notable exception is ‘email_address’, which is a text string)\n",
    "\n",
    "POI label: [‘poi’] (boolean, represented as integer)"
   ]
  },
  {
   "cell_type": "markdown",
   "metadata": {},
   "source": [
    "### Understanding the Dataset and Question\n",
    "\n",
    "- Data Exploration (related lesson: \"Datasets and Questions\"):\n",
    "\n",
    "Student response addresses the most important characteristics of the dataset and uses these characteristics to inform their analysis. Important characteristics include:\n",
    " total number of data points, \n",
    " allocation across classes (POI/non-POI), \n",
    " number of features used, \n",
    " are there features with many missing values?,etc\n",
    "\n",
    "- Outlier Investigation (related lesson: \"Outliers\"):\n",
    "Student response identifies outlier(s) in the financial data, and explains how they are removed or otherwise handled.\n"
   ]
  },
  {
   "cell_type": "markdown",
   "metadata": {},
   "source": [
    "### Libraries\n",
    "\n",
    "In this project I will use the libraries sys, pickle, pandas, numpy, matplot and pprint and the external file tester.\n",
    "\n",
    "I will use pickle to load the data; pandas and numpy to data manipulation, matplot to plot our visualizations and tester to test our model."
   ]
  },
  {
   "cell_type": "code",
   "execution_count": 1,
   "metadata": {},
   "outputs": [
    {
     "name": "stderr",
     "output_type": "stream",
     "text": [
      "/Users/andreyai/anaconda/envs/bunnies/lib/python2.7/site-packages/sklearn/cross_validation.py:44: DeprecationWarning: This module was deprecated in version 0.18 in favor of the model_selection module into which all the refactored classes and functions are moved. Also note that the interface of the new CV iterators are different from that of this module. This module will be removed in 0.20.\n",
      "  \"This module will be removed in 0.20.\", DeprecationWarning)\n"
     ]
    }
   ],
   "source": [
    "import sys\n",
    "import pickle \n",
    "import pandas as pd\n",
    "import matplotlib\n",
    "import numpy as np\n",
    "import matplotlib.pyplot as plt\n",
    "import seaborn as sns\n",
    "from pprint import pprint\n",
    "import tester\n",
    "\n",
    "%matplotlib inline\n",
    "sys.path.append(\"../tools/\")\n",
    "\n",
    "from feature_format import featureFormat, targetFeatureSplit"
   ]
  },
  {
   "cell_type": "markdown",
   "metadata": {},
   "source": [
    "### Importing Dataset\n",
    "\n",
    "I will import the dataset that is in a final_project_dataset.pkl file."
   ]
  },
  {
   "cell_type": "code",
   "execution_count": 2,
   "metadata": {
    "collapsed": true
   },
   "outputs": [],
   "source": [
    "# Importing Dataset\n",
    "data_dict = pickle.load(open(\"../final_project/final_project_dataset.pkl\", \"r\") )"
   ]
  },
  {
   "cell_type": "markdown",
   "metadata": {},
   "source": [
    "### Data Exploration\n",
    "In this part I will perform initial data analysis. \n",
    "First, we will see a instance of this data in order to get a sense of the data features."
   ]
  },
  {
   "cell_type": "code",
   "execution_count": 3,
   "metadata": {},
   "outputs": [
    {
     "data": {
      "text/plain": [
       "{'bonus': 600000,\n",
       " 'deferral_payments': 'NaN',\n",
       " 'deferred_income': 'NaN',\n",
       " 'director_fees': 'NaN',\n",
       " 'email_address': 'mark.metts@enron.com',\n",
       " 'exercised_stock_options': 'NaN',\n",
       " 'expenses': 94299,\n",
       " 'from_messages': 29,\n",
       " 'from_poi_to_this_person': 38,\n",
       " 'from_this_person_to_poi': 1,\n",
       " 'loan_advances': 'NaN',\n",
       " 'long_term_incentive': 'NaN',\n",
       " 'other': 1740,\n",
       " 'poi': False,\n",
       " 'restricted_stock': 585062,\n",
       " 'restricted_stock_deferred': 'NaN',\n",
       " 'salary': 365788,\n",
       " 'shared_receipt_with_poi': 702,\n",
       " 'to_messages': 807,\n",
       " 'total_payments': 1061827,\n",
       " 'total_stock_value': 585062}"
      ]
     },
     "execution_count": 3,
     "metadata": {},
     "output_type": "execute_result"
    }
   ],
   "source": [
    "data_dict.values()[0]"
   ]
  },
  {
   "cell_type": "markdown",
   "metadata": {},
   "source": [
    "There are 21 features some are financial features and others are email features. We can also see that we will need to handle with the NaN values. Let see the features."
   ]
  },
  {
   "cell_type": "code",
   "execution_count": 4,
   "metadata": {},
   "outputs": [
    {
     "data": {
      "text/plain": [
       "(21,\n",
       " ['salary',\n",
       "  'to_messages',\n",
       "  'deferral_payments',\n",
       "  'total_payments',\n",
       "  'exercised_stock_options',\n",
       "  'bonus',\n",
       "  'restricted_stock',\n",
       "  'shared_receipt_with_poi',\n",
       "  'restricted_stock_deferred',\n",
       "  'total_stock_value',\n",
       "  'expenses',\n",
       "  'loan_advances',\n",
       "  'from_messages',\n",
       "  'other',\n",
       "  'from_this_person_to_poi',\n",
       "  'poi',\n",
       "  'director_fees',\n",
       "  'deferred_income',\n",
       "  'long_term_incentive',\n",
       "  'email_address',\n",
       "  'from_poi_to_this_person'])"
      ]
     },
     "execution_count": 4,
     "metadata": {},
     "output_type": "execute_result"
    }
   ],
   "source": [
    "len(data_dict.values()[0].keys()),data_dict.values()[0].keys()"
   ]
  },
  {
   "cell_type": "markdown",
   "metadata": {},
   "source": [
    "Lets tranform to a pandas data_frame for a better data manipulation,"
   ]
  },
  {
   "cell_type": "code",
   "execution_count": 5,
   "metadata": {
    "collapsed": true
   },
   "outputs": [],
   "source": [
    "eron_data = pd.DataFrame.from_dict(data_dict, orient = 'index')"
   ]
  },
  {
   "cell_type": "markdown",
   "metadata": {},
   "source": [
    "Lets see how many people are poi in our dataset."
   ]
  },
  {
   "cell_type": "code",
   "execution_count": 6,
   "metadata": {
    "scrolled": true
   },
   "outputs": [
    {
     "name": "stdout",
     "output_type": "stream",
     "text": [
      "('Number of People Analyzed: ', 146)\n"
     ]
    },
    {
     "data": {
      "text/plain": [
       "poi\n",
       "False    128\n",
       "True      18\n",
       "Name: salary, dtype: int64"
      ]
     },
     "execution_count": 6,
     "metadata": {},
     "output_type": "execute_result"
    }
   ],
   "source": [
    "# total number of data points, allocation across classes (POI/non-POI) \n",
    "# number of features used, are there features with many missing values?\n",
    "\n",
    "# total number of data points, \n",
    "print(\"Number of People Analyzed: \",len(data_dict))\n",
    "# allocation across classes (POI/non-POI)\n",
    "\n",
    "eron_data.groupby('poi').count()['salary']"
   ]
  },
  {
   "cell_type": "code",
   "execution_count": 7,
   "metadata": {},
   "outputs": [
    {
     "data": {
      "text/plain": [
       "<matplotlib.axes._subplots.AxesSubplot at 0x10b741090>"
      ]
     },
     "execution_count": 7,
     "metadata": {},
     "output_type": "execute_result"
    },
    {
     "data": {
      "image/png": "[encoded data removed]",
      "text/plain": [
       "<matplotlib.figure.Figure at 0x10b741550>"
      ]
     },
     "metadata": {},
     "output_type": "display_data"
    }
   ],
   "source": [
    "sns.set_context(\"talk\")\n",
    "sns.set_style(\"whitegrid\")\n",
    "sns.despine(left=True)\n",
    "sns.countplot(x='poi',data=eron_data) "
   ]
  },
  {
   "cell_type": "markdown",
   "metadata": {},
   "source": [
    "Lets treat our missing data. In order to do so we will need to first see how many NaN are on our dataset by each feature."
   ]
  },
  {
   "cell_type": "code",
   "execution_count": 8,
   "metadata": {
    "collapsed": true
   },
   "outputs": [],
   "source": [
    "def PercentageMissin(Dataset):\n",
    "    \"\"\"this function will return the percentage of missing values in a dataset \"\"\"\n",
    "    if isinstance(Dataset,pd.DataFrame):\n",
    "        adict={} #a dictionary conatin keys columns names and values percentage of missin value in the columns\n",
    "        for feature in Dataset.columns:\n",
    "            count_nan_feature = 0;\n",
    "            for feature_row in Dataset[feature]:\n",
    "                if(feature_row == 'NaN'):\n",
    "                    count_nan_feature += 1  \n",
    "            adict[feature]=(count_nan_feature*100)/len(Dataset[feature])\n",
    "        return pd.DataFrame(adict,index=['% of missing'],columns=adict.keys())\n",
    "    else:\n",
    "        raise TypeError(\"can only be used with panda dataframe\")"
   ]
  },
  {
   "cell_type": "code",
   "execution_count": 9,
   "metadata": {},
   "outputs": [
    {
     "name": "stdout",
     "output_type": "stream",
     "text": [
      "Ranking of Missing Data\n"
     ]
    },
    {
     "data": {
      "text/plain": [
       "loan_advances                97.0\n",
       "director_fees                88.0\n",
       "restricted_stock_deferred    87.0\n",
       "deferral_payments            73.0\n",
       "deferred_income              66.0\n",
       "long_term_incentive          54.0\n",
       "bonus                        43.0\n",
       "from_poi_to_this_person      41.0\n",
       "from_messages                41.0\n",
       "shared_receipt_with_poi      41.0\n",
       "from_this_person_to_poi      41.0\n",
       "to_messages                  41.0\n",
       "other                        36.0\n",
       "expenses                     34.0\n",
       "salary                       34.0\n",
       "exercised_stock_options      30.0\n",
       "restricted_stock             24.0\n",
       "email_address                23.0\n",
       "total_payments               14.0\n",
       "total_stock_value            13.0\n",
       "poi                           0.0\n",
       "dtype: float64"
      ]
     },
     "execution_count": 9,
     "metadata": {},
     "output_type": "execute_result"
    }
   ],
   "source": [
    "print(\"Ranking of Missing Data\")\n",
    "PercentageMissin(eron_data).mean().sort_values(ascending=False)"
   ]
  },
  {
   "cell_type": "markdown",
   "metadata": {},
   "source": [
    "First thing that strike my attention was the number of missing data in loan_advances,director_fees, restricted_stock_deferred, deferral_payments. Seems we have just a few of those and I if it wll be usefull to our model."
   ]
  },
  {
   "cell_type": "code",
   "execution_count": 10,
   "metadata": {},
   "outputs": [
    {
     "name": "stdout",
     "output_type": "stream",
     "text": [
      "('There are ', 4, ' points in our dataset.')\n"
     ]
    },
    {
     "data": {
      "text/html": [
       "<div>\n",
       "<style>\n",
       "    .dataframe thead tr:only-child th {\n",
       "        text-align: right;\n",
       "    }\n",
       "\n",
       "    .dataframe thead th {\n",
       "        text-align: left;\n",
       "    }\n",
       "\n",
       "    .dataframe tbody tr th {\n",
       "        vertical-align: top;\n",
       "    }\n",
       "</style>\n",
       "<table border=\"1\" class=\"dataframe\">\n",
       "  <thead>\n",
       "    <tr style=\"text-align: right;\">\n",
       "      <th></th>\n",
       "      <th>loan_advances</th>\n",
       "      <th>poi</th>\n",
       "    </tr>\n",
       "  </thead>\n",
       "  <tbody>\n",
       "    <tr>\n",
       "      <th>FREVERT MARK A</th>\n",
       "      <td>2000000</td>\n",
       "      <td>False</td>\n",
       "    </tr>\n",
       "    <tr>\n",
       "      <th>LAY KENNETH L</th>\n",
       "      <td>81525000</td>\n",
       "      <td>True</td>\n",
       "    </tr>\n",
       "    <tr>\n",
       "      <th>PICKERING MARK R</th>\n",
       "      <td>400000</td>\n",
       "      <td>False</td>\n",
       "    </tr>\n",
       "    <tr>\n",
       "      <th>TOTAL</th>\n",
       "      <td>83925000</td>\n",
       "      <td>False</td>\n",
       "    </tr>\n",
       "  </tbody>\n",
       "</table>\n",
       "</div>"
      ],
      "text/plain": [
       "                 loan_advances    poi\n",
       "FREVERT MARK A         2000000  False\n",
       "LAY KENNETH L         81525000   True\n",
       "PICKERING MARK R        400000  False\n",
       "TOTAL                 83925000  False"
      ]
     },
     "execution_count": 10,
     "metadata": {},
     "output_type": "execute_result"
    }
   ],
   "source": [
    "loan_advances_df = eron_data[eron_data.loan_advances != 'NaN'][['loan_advances','poi']]\n",
    "print(\"There are \",len(loan_advances_df),\" points in our dataset.\")\n",
    "loan_advances_df"
   ]
  },
  {
   "cell_type": "markdown",
   "metadata": {},
   "source": [
    "Since we gae only four poins in our dataset and only one is a poi so I will not consider this from our feature list."
   ]
  },
  {
   "cell_type": "code",
   "execution_count": 11,
   "metadata": {},
   "outputs": [
    {
     "name": "stdout",
     "output_type": "stream",
     "text": [
      "('There are ', 17, ' points in our dataset.')\n"
     ]
    },
    {
     "data": {
      "text/html": [
       "<div>\n",
       "<style>\n",
       "    .dataframe thead tr:only-child th {\n",
       "        text-align: right;\n",
       "    }\n",
       "\n",
       "    .dataframe thead th {\n",
       "        text-align: left;\n",
       "    }\n",
       "\n",
       "    .dataframe tbody tr th {\n",
       "        vertical-align: top;\n",
       "    }\n",
       "</style>\n",
       "<table border=\"1\" class=\"dataframe\">\n",
       "  <thead>\n",
       "    <tr style=\"text-align: right;\">\n",
       "      <th></th>\n",
       "      <th>director_fees</th>\n",
       "      <th>poi</th>\n",
       "    </tr>\n",
       "  </thead>\n",
       "  <tbody>\n",
       "    <tr>\n",
       "      <th>BELFER ROBERT</th>\n",
       "      <td>3285</td>\n",
       "      <td>False</td>\n",
       "    </tr>\n",
       "    <tr>\n",
       "      <th>BHATNAGAR SANJAY</th>\n",
       "      <td>137864</td>\n",
       "      <td>False</td>\n",
       "    </tr>\n",
       "    <tr>\n",
       "      <th>BLAKE JR. NORMAN P</th>\n",
       "      <td>113784</td>\n",
       "      <td>False</td>\n",
       "    </tr>\n",
       "    <tr>\n",
       "      <th>CHAN RONNIE</th>\n",
       "      <td>98784</td>\n",
       "      <td>False</td>\n",
       "    </tr>\n",
       "    <tr>\n",
       "      <th>DUNCAN JOHN H</th>\n",
       "      <td>102492</td>\n",
       "      <td>False</td>\n",
       "    </tr>\n",
       "    <tr>\n",
       "      <th>GRAMM WENDY L</th>\n",
       "      <td>119292</td>\n",
       "      <td>False</td>\n",
       "    </tr>\n",
       "    <tr>\n",
       "      <th>JAEDICKE ROBERT</th>\n",
       "      <td>108750</td>\n",
       "      <td>False</td>\n",
       "    </tr>\n",
       "    <tr>\n",
       "      <th>LEMAISTRE CHARLES</th>\n",
       "      <td>112492</td>\n",
       "      <td>False</td>\n",
       "    </tr>\n",
       "    <tr>\n",
       "      <th>MENDELSOHN JOHN</th>\n",
       "      <td>103750</td>\n",
       "      <td>False</td>\n",
       "    </tr>\n",
       "    <tr>\n",
       "      <th>MEYER JEROME J</th>\n",
       "      <td>38346</td>\n",
       "      <td>False</td>\n",
       "    </tr>\n",
       "    <tr>\n",
       "      <th>PEREIRA PAULO V. FERRAZ</th>\n",
       "      <td>101250</td>\n",
       "      <td>False</td>\n",
       "    </tr>\n",
       "    <tr>\n",
       "      <th>POWERS WILLIAM</th>\n",
       "      <td>17500</td>\n",
       "      <td>False</td>\n",
       "    </tr>\n",
       "    <tr>\n",
       "      <th>SAVAGE FRANK</th>\n",
       "      <td>125034</td>\n",
       "      <td>False</td>\n",
       "    </tr>\n",
       "    <tr>\n",
       "      <th>TOTAL</th>\n",
       "      <td>1398517</td>\n",
       "      <td>False</td>\n",
       "    </tr>\n",
       "    <tr>\n",
       "      <th>URQUHART JOHN A</th>\n",
       "      <td>36666</td>\n",
       "      <td>False</td>\n",
       "    </tr>\n",
       "    <tr>\n",
       "      <th>WAKEHAM JOHN</th>\n",
       "      <td>109298</td>\n",
       "      <td>False</td>\n",
       "    </tr>\n",
       "    <tr>\n",
       "      <th>WINOKUR JR. HERBERT S</th>\n",
       "      <td>108579</td>\n",
       "      <td>False</td>\n",
       "    </tr>\n",
       "  </tbody>\n",
       "</table>\n",
       "</div>"
      ],
      "text/plain": [
       "                        director_fees    poi\n",
       "BELFER ROBERT                    3285  False\n",
       "BHATNAGAR SANJAY               137864  False\n",
       "BLAKE JR. NORMAN P             113784  False\n",
       "CHAN RONNIE                     98784  False\n",
       "DUNCAN JOHN H                  102492  False\n",
       "GRAMM WENDY L                  119292  False\n",
       "JAEDICKE ROBERT                108750  False\n",
       "LEMAISTRE CHARLES              112492  False\n",
       "MENDELSOHN JOHN                103750  False\n",
       "MEYER JEROME J                  38346  False\n",
       "PEREIRA PAULO V. FERRAZ        101250  False\n",
       "POWERS WILLIAM                  17500  False\n",
       "SAVAGE FRANK                   125034  False\n",
       "TOTAL                         1398517  False\n",
       "URQUHART JOHN A                 36666  False\n",
       "WAKEHAM JOHN                   109298  False\n",
       "WINOKUR JR. HERBERT S          108579  False"
      ]
     },
     "execution_count": 11,
     "metadata": {},
     "output_type": "execute_result"
    }
   ],
   "source": [
    "director_fees_df = eron_data[eron_data.director_fees != 'NaN'][['director_fees','poi']]\n",
    "print(\"There are \",len(director_fees_df),\" points in our dataset.\")\n",
    "director_fees_df"
   ]
  },
  {
   "cell_type": "markdown",
   "metadata": {},
   "source": [
    "From 146 values we have only 17 entries and from those all 17 are false to poi parameter. So I will also not consider in my analysis. "
   ]
  },
  {
   "cell_type": "code",
   "execution_count": 12,
   "metadata": {},
   "outputs": [
    {
     "name": "stdout",
     "output_type": "stream",
     "text": [
      "('There are ', 18, ' points in our dataset.')\n"
     ]
    },
    {
     "data": {
      "text/html": [
       "<div>\n",
       "<style>\n",
       "    .dataframe thead tr:only-child th {\n",
       "        text-align: right;\n",
       "    }\n",
       "\n",
       "    .dataframe thead th {\n",
       "        text-align: left;\n",
       "    }\n",
       "\n",
       "    .dataframe tbody tr th {\n",
       "        vertical-align: top;\n",
       "    }\n",
       "</style>\n",
       "<table border=\"1\" class=\"dataframe\">\n",
       "  <thead>\n",
       "    <tr style=\"text-align: right;\">\n",
       "      <th></th>\n",
       "      <th>restricted_stock_deferred</th>\n",
       "      <th>poi</th>\n",
       "    </tr>\n",
       "  </thead>\n",
       "  <tbody>\n",
       "    <tr>\n",
       "      <th>ALLEN PHILLIP K</th>\n",
       "      <td>-126027</td>\n",
       "      <td>False</td>\n",
       "    </tr>\n",
       "    <tr>\n",
       "      <th>BANNANTINE JAMES M</th>\n",
       "      <td>-560222</td>\n",
       "      <td>False</td>\n",
       "    </tr>\n",
       "    <tr>\n",
       "      <th>BAY FRANKLIN R</th>\n",
       "      <td>-82782</td>\n",
       "      <td>False</td>\n",
       "    </tr>\n",
       "    <tr>\n",
       "      <th>BELFER ROBERT</th>\n",
       "      <td>44093</td>\n",
       "      <td>False</td>\n",
       "    </tr>\n",
       "    <tr>\n",
       "      <th>BHATNAGAR SANJAY</th>\n",
       "      <td>15456290</td>\n",
       "      <td>False</td>\n",
       "    </tr>\n",
       "    <tr>\n",
       "      <th>CARTER REBECCA C</th>\n",
       "      <td>-307301</td>\n",
       "      <td>False</td>\n",
       "    </tr>\n",
       "    <tr>\n",
       "      <th>CHAN RONNIE</th>\n",
       "      <td>-32460</td>\n",
       "      <td>False</td>\n",
       "    </tr>\n",
       "    <tr>\n",
       "      <th>CLINE KENNETH W</th>\n",
       "      <td>-472568</td>\n",
       "      <td>False</td>\n",
       "    </tr>\n",
       "    <tr>\n",
       "      <th>DERRICK JR. JAMES V</th>\n",
       "      <td>-1787380</td>\n",
       "      <td>False</td>\n",
       "    </tr>\n",
       "    <tr>\n",
       "      <th>DETMERING TIMOTHY J</th>\n",
       "      <td>-315068</td>\n",
       "      <td>False</td>\n",
       "    </tr>\n",
       "    <tr>\n",
       "      <th>GATHMANN WILLIAM D</th>\n",
       "      <td>-72419</td>\n",
       "      <td>False</td>\n",
       "    </tr>\n",
       "    <tr>\n",
       "      <th>HAEDICKE MARK E</th>\n",
       "      <td>-329825</td>\n",
       "      <td>False</td>\n",
       "    </tr>\n",
       "    <tr>\n",
       "      <th>JAEDICKE ROBERT</th>\n",
       "      <td>-44093</td>\n",
       "      <td>False</td>\n",
       "    </tr>\n",
       "    <tr>\n",
       "      <th>LOWRY CHARLES P</th>\n",
       "      <td>-153686</td>\n",
       "      <td>False</td>\n",
       "    </tr>\n",
       "    <tr>\n",
       "      <th>NOLES JAMES L</th>\n",
       "      <td>-94556</td>\n",
       "      <td>False</td>\n",
       "    </tr>\n",
       "    <tr>\n",
       "      <th>PIPER GREGORY F</th>\n",
       "      <td>-409554</td>\n",
       "      <td>False</td>\n",
       "    </tr>\n",
       "    <tr>\n",
       "      <th>REYNOLDS LAWRENCE</th>\n",
       "      <td>-140264</td>\n",
       "      <td>False</td>\n",
       "    </tr>\n",
       "    <tr>\n",
       "      <th>TOTAL</th>\n",
       "      <td>-7576788</td>\n",
       "      <td>False</td>\n",
       "    </tr>\n",
       "  </tbody>\n",
       "</table>\n",
       "</div>"
      ],
      "text/plain": [
       "                    restricted_stock_deferred    poi\n",
       "ALLEN PHILLIP K                       -126027  False\n",
       "BANNANTINE JAMES M                    -560222  False\n",
       "BAY FRANKLIN R                         -82782  False\n",
       "BELFER ROBERT                           44093  False\n",
       "BHATNAGAR SANJAY                     15456290  False\n",
       "CARTER REBECCA C                      -307301  False\n",
       "CHAN RONNIE                            -32460  False\n",
       "CLINE KENNETH W                       -472568  False\n",
       "DERRICK JR. JAMES V                  -1787380  False\n",
       "DETMERING TIMOTHY J                   -315068  False\n",
       "GATHMANN WILLIAM D                     -72419  False\n",
       "HAEDICKE MARK E                       -329825  False\n",
       "JAEDICKE ROBERT                        -44093  False\n",
       "LOWRY CHARLES P                       -153686  False\n",
       "NOLES JAMES L                          -94556  False\n",
       "PIPER GREGORY F                       -409554  False\n",
       "REYNOLDS LAWRENCE                     -140264  False\n",
       "TOTAL                                -7576788  False"
      ]
     },
     "execution_count": 12,
     "metadata": {},
     "output_type": "execute_result"
    }
   ],
   "source": [
    "restricted_stock_deferred_df = eron_data[eron_data.restricted_stock_deferred != 'NaN'][['restricted_stock_deferred','poi']]\n",
    "print(\"There are \",len(restricted_stock_deferred_df),\" points in our dataset.\")\n",
    "restricted_stock_deferred_df"
   ]
  },
  {
   "cell_type": "markdown",
   "metadata": {},
   "source": [
    "The same happened with restricted_store_deferred as with the director_fee. From 146 values we have only 18 entries and from those all are false to poi parameter. So I will also not consider in my analysis."
   ]
  },
  {
   "cell_type": "code",
   "execution_count": 13,
   "metadata": {},
   "outputs": [
    {
     "name": "stdout",
     "output_type": "stream",
     "text": [
      "('There are ', 39, ' points in our dataset.')\n"
     ]
    },
    {
     "data": {
      "text/html": [
       "<div>\n",
       "<style>\n",
       "    .dataframe thead tr:only-child th {\n",
       "        text-align: right;\n",
       "    }\n",
       "\n",
       "    .dataframe thead th {\n",
       "        text-align: left;\n",
       "    }\n",
       "\n",
       "    .dataframe tbody tr th {\n",
       "        vertical-align: top;\n",
       "    }\n",
       "</style>\n",
       "<table border=\"1\" class=\"dataframe\">\n",
       "  <thead>\n",
       "    <tr style=\"text-align: right;\">\n",
       "      <th></th>\n",
       "      <th>deferral_payments</th>\n",
       "      <th>poi</th>\n",
       "    </tr>\n",
       "  </thead>\n",
       "  <tbody>\n",
       "    <tr>\n",
       "      <th>ALLEN PHILLIP K</th>\n",
       "      <td>2869717</td>\n",
       "      <td>False</td>\n",
       "    </tr>\n",
       "    <tr>\n",
       "      <th>BADUM JAMES P</th>\n",
       "      <td>178980</td>\n",
       "      <td>False</td>\n",
       "    </tr>\n",
       "    <tr>\n",
       "      <th>BAXTER JOHN C</th>\n",
       "      <td>1295738</td>\n",
       "      <td>False</td>\n",
       "    </tr>\n",
       "    <tr>\n",
       "      <th>BAY FRANKLIN R</th>\n",
       "      <td>260455</td>\n",
       "      <td>False</td>\n",
       "    </tr>\n",
       "    <tr>\n",
       "      <th>BAZELIDES PHILIP J</th>\n",
       "      <td>684694</td>\n",
       "      <td>False</td>\n",
       "    </tr>\n",
       "    <tr>\n",
       "      <th>BELDEN TIMOTHY N</th>\n",
       "      <td>2144013</td>\n",
       "      <td>True</td>\n",
       "    </tr>\n",
       "    <tr>\n",
       "      <th>BELFER ROBERT</th>\n",
       "      <td>-102500</td>\n",
       "      <td>False</td>\n",
       "    </tr>\n",
       "    <tr>\n",
       "      <th>BUY RICHARD B</th>\n",
       "      <td>649584</td>\n",
       "      <td>False</td>\n",
       "    </tr>\n",
       "    <tr>\n",
       "      <th>COLWELL WESLEY</th>\n",
       "      <td>27610</td>\n",
       "      <td>True</td>\n",
       "    </tr>\n",
       "    <tr>\n",
       "      <th>DETMERING TIMOTHY J</th>\n",
       "      <td>875307</td>\n",
       "      <td>False</td>\n",
       "    </tr>\n",
       "    <tr>\n",
       "      <th>FOY JOE</th>\n",
       "      <td>181755</td>\n",
       "      <td>False</td>\n",
       "    </tr>\n",
       "    <tr>\n",
       "      <th>FREVERT MARK A</th>\n",
       "      <td>6426990</td>\n",
       "      <td>False</td>\n",
       "    </tr>\n",
       "    <tr>\n",
       "      <th>FUGH JOHN L</th>\n",
       "      <td>50591</td>\n",
       "      <td>False</td>\n",
       "    </tr>\n",
       "    <tr>\n",
       "      <th>GAHN ROBERT S</th>\n",
       "      <td>73122</td>\n",
       "      <td>False</td>\n",
       "    </tr>\n",
       "    <tr>\n",
       "      <th>GIBBS DANA R</th>\n",
       "      <td>504610</td>\n",
       "      <td>False</td>\n",
       "    </tr>\n",
       "    <tr>\n",
       "      <th>GRAY RODNEY</th>\n",
       "      <td>93585</td>\n",
       "      <td>False</td>\n",
       "    </tr>\n",
       "    <tr>\n",
       "      <th>HAEDICKE MARK E</th>\n",
       "      <td>2157527</td>\n",
       "      <td>False</td>\n",
       "    </tr>\n",
       "    <tr>\n",
       "      <th>HAYES ROBERT E</th>\n",
       "      <td>7961</td>\n",
       "      <td>False</td>\n",
       "    </tr>\n",
       "    <tr>\n",
       "      <th>HIRKO JOSEPH</th>\n",
       "      <td>10259</td>\n",
       "      <td>True</td>\n",
       "    </tr>\n",
       "    <tr>\n",
       "      <th>HORTON STANLEY C</th>\n",
       "      <td>3131860</td>\n",
       "      <td>False</td>\n",
       "    </tr>\n",
       "    <tr>\n",
       "      <th>HUMPHREY GENE E</th>\n",
       "      <td>2964506</td>\n",
       "      <td>False</td>\n",
       "    </tr>\n",
       "    <tr>\n",
       "      <th>LAY KENNETH L</th>\n",
       "      <td>202911</td>\n",
       "      <td>True</td>\n",
       "    </tr>\n",
       "    <tr>\n",
       "      <th>LINDHOLM TOD A</th>\n",
       "      <td>204075</td>\n",
       "      <td>False</td>\n",
       "    </tr>\n",
       "    <tr>\n",
       "      <th>MARTIN AMANDA K</th>\n",
       "      <td>85430</td>\n",
       "      <td>False</td>\n",
       "    </tr>\n",
       "    <tr>\n",
       "      <th>MEYER ROCKFORD G</th>\n",
       "      <td>1848227</td>\n",
       "      <td>False</td>\n",
       "    </tr>\n",
       "    <tr>\n",
       "      <th>MULLER MARK S</th>\n",
       "      <td>842924</td>\n",
       "      <td>False</td>\n",
       "    </tr>\n",
       "    <tr>\n",
       "      <th>NOLES JAMES L</th>\n",
       "      <td>774401</td>\n",
       "      <td>False</td>\n",
       "    </tr>\n",
       "    <tr>\n",
       "      <th>OLSON CINDY K</th>\n",
       "      <td>77716</td>\n",
       "      <td>False</td>\n",
       "    </tr>\n",
       "    <tr>\n",
       "      <th>PIPER GREGORY F</th>\n",
       "      <td>1130036</td>\n",
       "      <td>False</td>\n",
       "    </tr>\n",
       "    <tr>\n",
       "      <th>PRENTICE JAMES</th>\n",
       "      <td>564348</td>\n",
       "      <td>False</td>\n",
       "    </tr>\n",
       "    <tr>\n",
       "      <th>REYNOLDS LAWRENCE</th>\n",
       "      <td>51365</td>\n",
       "      <td>False</td>\n",
       "    </tr>\n",
       "    <tr>\n",
       "      <th>RIEKER PAULA H</th>\n",
       "      <td>214678</td>\n",
       "      <td>True</td>\n",
       "    </tr>\n",
       "    <tr>\n",
       "      <th>SHARP VICTORIA T</th>\n",
       "      <td>187469</td>\n",
       "      <td>False</td>\n",
       "    </tr>\n",
       "    <tr>\n",
       "      <th>SULLIVAN-SHAKLOVITZ COLLEEN</th>\n",
       "      <td>181993</td>\n",
       "      <td>False</td>\n",
       "    </tr>\n",
       "    <tr>\n",
       "      <th>TAYLOR MITCHELL S</th>\n",
       "      <td>227449</td>\n",
       "      <td>False</td>\n",
       "    </tr>\n",
       "    <tr>\n",
       "      <th>THORN TERENCE H</th>\n",
       "      <td>16586</td>\n",
       "      <td>False</td>\n",
       "    </tr>\n",
       "    <tr>\n",
       "      <th>TOTAL</th>\n",
       "      <td>32083396</td>\n",
       "      <td>False</td>\n",
       "    </tr>\n",
       "    <tr>\n",
       "      <th>WALTERS GARETH W</th>\n",
       "      <td>53625</td>\n",
       "      <td>False</td>\n",
       "    </tr>\n",
       "    <tr>\n",
       "      <th>WASAFF GEORGE</th>\n",
       "      <td>831299</td>\n",
       "      <td>False</td>\n",
       "    </tr>\n",
       "  </tbody>\n",
       "</table>\n",
       "</div>"
      ],
      "text/plain": [
       "                            deferral_payments    poi\n",
       "ALLEN PHILLIP K                       2869717  False\n",
       "BADUM JAMES P                          178980  False\n",
       "BAXTER JOHN C                         1295738  False\n",
       "BAY FRANKLIN R                         260455  False\n",
       "BAZELIDES PHILIP J                     684694  False\n",
       "BELDEN TIMOTHY N                      2144013   True\n",
       "BELFER ROBERT                         -102500  False\n",
       "BUY RICHARD B                          649584  False\n",
       "COLWELL WESLEY                          27610   True\n",
       "DETMERING TIMOTHY J                    875307  False\n",
       "FOY JOE                                181755  False\n",
       "FREVERT MARK A                        6426990  False\n",
       "FUGH JOHN L                             50591  False\n",
       "GAHN ROBERT S                           73122  False\n",
       "GIBBS DANA R                           504610  False\n",
       "GRAY RODNEY                             93585  False\n",
       "HAEDICKE MARK E                       2157527  False\n",
       "HAYES ROBERT E                           7961  False\n",
       "HIRKO JOSEPH                            10259   True\n",
       "HORTON STANLEY C                      3131860  False\n",
       "HUMPHREY GENE E                       2964506  False\n",
       "LAY KENNETH L                          202911   True\n",
       "LINDHOLM TOD A                         204075  False\n",
       "MARTIN AMANDA K                         85430  False\n",
       "MEYER ROCKFORD G                      1848227  False\n",
       "MULLER MARK S                          842924  False\n",
       "NOLES JAMES L                          774401  False\n",
       "OLSON CINDY K                           77716  False\n",
       "PIPER GREGORY F                       1130036  False\n",
       "PRENTICE JAMES                         564348  False\n",
       "REYNOLDS LAWRENCE                       51365  False\n",
       "RIEKER PAULA H                         214678   True\n",
       "SHARP VICTORIA T                       187469  False\n",
       "SULLIVAN-SHAKLOVITZ COLLEEN            181993  False\n",
       "TAYLOR MITCHELL S                      227449  False\n",
       "THORN TERENCE H                         16586  False\n",
       "TOTAL                                32083396  False\n",
       "WALTERS GARETH W                        53625  False\n",
       "WASAFF GEORGE                          831299  False"
      ]
     },
     "execution_count": 13,
     "metadata": {},
     "output_type": "execute_result"
    }
   ],
   "source": [
    "deferral_payments_df = eron_data[eron_data.deferral_payments != 'NaN'][['deferral_payments','poi']]\n",
    "print(\"There are \",len(deferral_payments_df),\" points in our dataset.\")\n",
    "deferral_payments_df"
   ]
  },
  {
   "cell_type": "code",
   "execution_count": 14,
   "metadata": {},
   "outputs": [
    {
     "data": {
      "text/html": [
       "<div>\n",
       "<style>\n",
       "    .dataframe thead tr:only-child th {\n",
       "        text-align: right;\n",
       "    }\n",
       "\n",
       "    .dataframe thead th {\n",
       "        text-align: left;\n",
       "    }\n",
       "\n",
       "    .dataframe tbody tr th {\n",
       "        vertical-align: top;\n",
       "    }\n",
       "</style>\n",
       "<table border=\"1\" class=\"dataframe\">\n",
       "  <thead>\n",
       "    <tr style=\"text-align: right;\">\n",
       "      <th></th>\n",
       "      <th>deferral_payments</th>\n",
       "    </tr>\n",
       "    <tr>\n",
       "      <th>poi</th>\n",
       "      <th></th>\n",
       "    </tr>\n",
       "  </thead>\n",
       "  <tbody>\n",
       "    <tr>\n",
       "      <th>False</th>\n",
       "      <td>34</td>\n",
       "    </tr>\n",
       "    <tr>\n",
       "      <th>True</th>\n",
       "      <td>5</td>\n",
       "    </tr>\n",
       "  </tbody>\n",
       "</table>\n",
       "</div>"
      ],
      "text/plain": [
       "       deferral_payments\n",
       "poi                     \n",
       "False                 34\n",
       "True                   5"
      ]
     },
     "execution_count": 14,
     "metadata": {},
     "output_type": "execute_result"
    }
   ],
   "source": [
    "deferral_payments_df.groupby('poi').count()"
   ]
  },
  {
   "cell_type": "markdown",
   "metadata": {},
   "source": [
    "We found some poi in deferral payments!! There were 5 poi out of 39 people in this feature. Let see  if plotting the values we found some more information about this points."
   ]
  },
  {
   "cell_type": "code",
   "execution_count": 15,
   "metadata": {},
   "outputs": [
    {
     "data": {
      "text/plain": [
       "<seaborn.axisgrid.FacetGrid at 0x10b81d0d0>"
      ]
     },
     "execution_count": 15,
     "metadata": {},
     "output_type": "execute_result"
    },
    {
     "data": {
      "image/png": "[encoded data removed]",
      "text/plain": [
       "<matplotlib.figure.Figure at 0x10b81d290>"
      ]
     },
     "metadata": {},
     "output_type": "display_data"
    }
   ],
   "source": [
    "sns.lmplot('poi','deferral_payments',data=deferral_payments_df,fit_reg=False)"
   ]
  },
  {
   "cell_type": "code",
   "execution_count": 16,
   "metadata": {},
   "outputs": [
    {
     "data": {
      "text/plain": [
       "32083396"
      ]
     },
     "execution_count": 16,
     "metadata": {},
     "output_type": "execute_result"
    }
   ],
   "source": [
    "deferral_payments_df[\"deferral_payments\"].max()"
   ]
  },
  {
   "cell_type": "code",
   "execution_count": 17,
   "metadata": {},
   "outputs": [
    {
     "data": {
      "text/html": [
       "<div>\n",
       "<style>\n",
       "    .dataframe thead tr:only-child th {\n",
       "        text-align: right;\n",
       "    }\n",
       "\n",
       "    .dataframe thead th {\n",
       "        text-align: left;\n",
       "    }\n",
       "\n",
       "    .dataframe tbody tr th {\n",
       "        vertical-align: top;\n",
       "    }\n",
       "</style>\n",
       "<table border=\"1\" class=\"dataframe\">\n",
       "  <thead>\n",
       "    <tr style=\"text-align: right;\">\n",
       "      <th></th>\n",
       "      <th>deferral_payments</th>\n",
       "      <th>poi</th>\n",
       "    </tr>\n",
       "  </thead>\n",
       "  <tbody>\n",
       "    <tr>\n",
       "      <th>TOTAL</th>\n",
       "      <td>32083396</td>\n",
       "      <td>False</td>\n",
       "    </tr>\n",
       "  </tbody>\n",
       "</table>\n",
       "</div>"
      ],
      "text/plain": [
       "      deferral_payments    poi\n",
       "TOTAL          32083396  False"
      ]
     },
     "execution_count": 17,
     "metadata": {},
     "output_type": "execute_result"
    }
   ],
   "source": [
    "deferral_payments_df[deferral_payments_df[\"deferral_payments\"] == 32083396]"
   ]
  },
  {
   "cell_type": "markdown",
   "metadata": {},
   "source": [
    "We found that the highest value was he total and it should be an outlier."
   ]
  },
  {
   "cell_type": "code",
   "execution_count": 18,
   "metadata": {},
   "outputs": [
    {
     "data": {
      "text/plain": [
       "<seaborn.axisgrid.FacetGrid at 0x10b8b62d0>"
      ]
     },
     "execution_count": 18,
     "metadata": {},
     "output_type": "execute_result"
    },
    {
     "data": {
      "image/png": "[encoded data removed]",
      "text/plain": [
       "<matplotlib.figure.Figure at 0x10b8b61d0>"
      ]
     },
     "metadata": {},
     "output_type": "display_data"
    }
   ],
   "source": [
    "sns.lmplot('poi','deferral_payments',data=deferral_payments_df[deferral_payments_df < 32083396],fit_reg=False)"
   ]
  },
  {
   "cell_type": "markdown",
   "metadata": {},
   "source": [
    "We also noticed that ther are no much difference between the values of poi and non poi for the deferral payments. Most of the poi felt almost like in the middle of the data."
   ]
  },
  {
   "cell_type": "markdown",
   "metadata": {},
   "source": [
    "The others features contain almost 50% of the data so I will use them in my analysis. Other thing is the email_address is unique amoung the people, so I will not use these variable.\n",
    "The features loan_advances, directors_fees, restricted_stock_deffered and email_address will be use."
   ]
  },
  {
   "cell_type": "markdown",
   "metadata": {},
   "source": [
    "### Select Features"
   ]
  },
  {
   "cell_type": "code",
   "execution_count": 19,
   "metadata": {
    "collapsed": true
   },
   "outputs": [],
   "source": [
    "### Task 1: Select what features you'll use.\n",
    "### features_list is a list of strings, each of which is a feature name.\n",
    "### The first feature must be \"poi\".\n",
    "features_list = [\n",
    "    'poi','salary', 'to_messages','from_messages', 'from_poi_to_this_person',\n",
    "    'from_this_person_to_poi', 'deferral_payments', 'other',\n",
    "    'total_payments','bonus', 'total_stock_value', 'shared_receipt_with_poi', 'long_term_incentive',\n",
    "    'exercised_stock_options','deferred_income', 'expenses', 'restricted_stock']\n",
    "\n",
    "# In the featureFormat it will treat the missing values giving them a 0  value\n",
    "data = featureFormat(data_dict, features_list)"
   ]
  },
  {
   "cell_type": "code",
   "execution_count": 20,
   "metadata": {
    "collapsed": true
   },
   "outputs": [],
   "source": [
    "eron_data = eron_data.replace('NaN', 0)"
   ]
  },
  {
   "cell_type": "markdown",
   "metadata": {},
   "source": [
    "### Outliers\n",
    "\n",
    "In this part we will find the outliers and remove them."
   ]
  },
  {
   "cell_type": "code",
   "execution_count": 21,
   "metadata": {},
   "outputs": [
    {
     "name": "stdout",
     "output_type": "stream",
     "text": [
      "('TOTAL', 309886585)\n"
     ]
    }
   ],
   "source": [
    "### Task 2: Remove outliers\n",
    "persons_name = \"\"\n",
    "most_money = 0\n",
    "\n",
    "for name in data_dict.keys():\n",
    "    person = data_dict[name]\n",
    "    if(data_dict[name]['total_payments'] != 'NaN' and data_dict[name]['total_payments'] > most_money):\n",
    "        persons_name = name;\n",
    "        most_money = data_dict[name]['total_payments'];\n",
    "        \n",
    "print(persons_name, most_money);"
   ]
  },
  {
   "cell_type": "markdown",
   "metadata": {},
   "source": [
    "We will use only 2 finacial data. First we will analyze the salary data."
   ]
  },
  {
   "cell_type": "code",
   "execution_count": 22,
   "metadata": {},
   "outputs": [
    {
     "data": {
      "image/png": "[encoded data removed]",
      "text/plain": [
       "<matplotlib.figure.Figure at 0x10ba7a310>"
      ]
     },
     "metadata": {},
     "output_type": "display_data"
    }
   ],
   "source": [
    "# Salary outlier\n",
    "\n",
    "outliers = []\n",
    "for key in data_dict:\n",
    "    val = data_dict[key]['salary']\n",
    "    if val == 'NaN':\n",
    "        continue\n",
    "    outliers.append((key,int(val)))\n",
    "\n",
    "for point in data:\n",
    "    stock = point[2]\n",
    "    salary = point[1]\n",
    "    matplotlib.pyplot.scatter( salary, stock )\n",
    "\n",
    "matplotlib.pyplot.xlabel(\"salary\")\n",
    "matplotlib.pyplot.ylabel(\"restricted_stock\")\n",
    "matplotlib.pyplot.show()"
   ]
  },
  {
   "cell_type": "markdown",
   "metadata": {},
   "source": [
    "We can see that we have a big outlier in our data set. So lets see what it is."
   ]
  },
  {
   "cell_type": "code",
   "execution_count": 23,
   "metadata": {},
   "outputs": [
    {
     "name": "stdout",
     "output_type": "stream",
     "text": [
      "[('TOTAL', 26704229),\n",
      " ('SKILLING JEFFREY K', 1111258),\n",
      " ('LAY KENNETH L', 1072321)]\n"
     ]
    },
    {
     "data": {
      "image/png": "[encoded data removed]",
      "text/plain": [
       "<matplotlib.figure.Figure at 0x10bf4e250>"
      ]
     },
     "metadata": {},
     "output_type": "display_data"
    }
   ],
   "source": [
    "pprint(sorted(outliers,key=lambda x:x[1],reverse=True)[:3])\n",
    "\n",
    "for point in data:\n",
    "    stock = point[2]\n",
    "    salary = point[1]\n",
    "    if(salary < 26704229):\n",
    "\t    matplotlib.pyplot.scatter( salary, stock,color=\"b\" )\n",
    "\n",
    "matplotlib.pyplot.xlabel(\"salary\")\n",
    "matplotlib.pyplot.ylabel(\"sock options\")\n",
    "matplotlib.pyplot.show()"
   ]
  },
  {
   "cell_type": "markdown",
   "metadata": {},
   "source": [
    "We got that our outlier was the TOTAL.And others seem fine."
   ]
  },
  {
   "cell_type": "code",
   "execution_count": 24,
   "metadata": {
    "collapsed": true
   },
   "outputs": [],
   "source": [
    "del data_dict[\"TOTAL\"]"
   ]
  },
  {
   "cell_type": "markdown",
   "metadata": {},
   "source": [
    "Then lets investigate the restricted_stock."
   ]
  },
  {
   "cell_type": "code",
   "execution_count": 25,
   "metadata": {},
   "outputs": [
    {
     "name": "stdout",
     "output_type": "stream",
     "text": [
      "[('BHATNAGAR SANJAY', -2604490),\n",
      " ('CHAN RONNIE', 32460),\n",
      " ('JAEDICKE ROBERT', 44093)]\n",
      "[('LAY KENNETH L', 14761694),\n",
      " ('WHITE JR THOMAS E', 13847074),\n",
      " ('PAI LOU L', 8453763)]\n"
     ]
    }
   ],
   "source": [
    "# investigate Outlier for restricted_stock\n",
    "outliers = []\n",
    "for key in data_dict:\n",
    "    val = data_dict[key]['restricted_stock']\n",
    "    if val == 'NaN':\n",
    "        continue\n",
    "    outliers.append((key,int(val)))\n",
    "    \n",
    "pprint(sorted(outliers,key=lambda x:x[1])[:3])\n",
    "pprint(sorted(outliers,key=lambda x:x[1],reverse=True)[:3])"
   ]
  },
  {
   "cell_type": "markdown",
   "metadata": {},
   "source": [
    "Seems that we do not have a outlier for restricted stock."
   ]
  },
  {
   "cell_type": "markdown",
   "metadata": {},
   "source": [
    "#### Question: \n",
    "Summarize for us the goal of this project and how machine learning is useful in trying to accomplish it. As part of your answer, give some background on the dataset and how it can be used to answer the project question. Were there any outliers in the data when you got it, and how did you handle those?  [relevant rubric items: “data exploration”, “outlier investigation”]"
   ]
  },
  {
   "cell_type": "markdown",
   "metadata": {},
   "source": [
    "#### Answer:"
   ]
  },
  {
   "cell_type": "markdown",
   "metadata": {},
   "source": [
    "The goal of this project is to succesfully identify the POIs of the Eron scandal. In order to do it I will use machine learning classify algorithm, that can throught the data identify patterns of the POI. In this project I will use the dataset contaning some financial data and  email data."
   ]
  },
  {
   "cell_type": "markdown",
   "metadata": {},
   "source": [
    "### Optimize Feature Selection/Engineering:\n",
    "- Create new features (related lesson: \"Feature Selection\"): \n",
    "\n",
    "At least one new feature is implemented. Justification for that feature is provided in the written response. The effect of that feature on final algorithm performance is tested or its strength is compared to other features in feature selection. The student is not required to include their new feature in their final feature set.\n",
    "\n",
    "- Intelligently select features (related lesson: \"Feature Selection\"):\n",
    "\n",
    "Univariate or recursive feature selection is deployed, or features are selected by hand (different combinations of features are attempted, and the performance is documented for each one). Features that are selected are reported and the number of features selected is justified. For an algorithm that supports getting the feature importances (e.g. decision tree) or feature scores (e.g. SelectKBest), those are documented as well.\n",
    "\n",
    "- Properly scale features (related lesson: \"Feature Scaling\")\n",
    "\n",
    "If algorithm calls for scaled features, feature scaling is deployed.\n",
    "   "
   ]
  },
  {
   "cell_type": "markdown",
   "metadata": {},
   "source": [
    "###### Creating new features"
   ]
  },
  {
   "cell_type": "code",
   "execution_count": 26,
   "metadata": {
    "collapsed": true
   },
   "outputs": [],
   "source": [
    "### Task 3: Create new feature(s)\n",
    "### Store to my_dataset for easy export below.\n",
    "my_dataset = data_dict\n"
   ]
  },
  {
   "cell_type": "code",
   "execution_count": 27,
   "metadata": {},
   "outputs": [
    {
     "data": {
      "text/html": [
       "<div>\n",
       "<style>\n",
       "    .dataframe thead tr:only-child th {\n",
       "        text-align: right;\n",
       "    }\n",
       "\n",
       "    .dataframe thead th {\n",
       "        text-align: left;\n",
       "    }\n",
       "\n",
       "    .dataframe tbody tr th {\n",
       "        vertical-align: top;\n",
       "    }\n",
       "</style>\n",
       "<table border=\"1\" class=\"dataframe\">\n",
       "  <thead>\n",
       "    <tr style=\"text-align: right;\">\n",
       "      <th></th>\n",
       "      <th>from_poi_to_this_person</th>\n",
       "      <th>to_messages</th>\n",
       "    </tr>\n",
       "  </thead>\n",
       "  <tbody>\n",
       "  </tbody>\n",
       "</table>\n",
       "</div>"
      ],
      "text/plain": [
       "Empty DataFrame\n",
       "Columns: [from_poi_to_this_person, to_messages]\n",
       "Index: []"
      ]
     },
     "execution_count": 27,
     "metadata": {},
     "output_type": "execute_result"
    }
   ],
   "source": [
    "eron_data[eron_data['to_messages'] < eron_data['from_poi_to_this_person']][['from_poi_to_this_person', 'to_messages']]"
   ]
  },
  {
   "cell_type": "code",
   "execution_count": 28,
   "metadata": {},
   "outputs": [
    {
     "data": {
      "text/html": [
       "<div>\n",
       "<style>\n",
       "    .dataframe thead tr:only-child th {\n",
       "        text-align: right;\n",
       "    }\n",
       "\n",
       "    .dataframe thead th {\n",
       "        text-align: left;\n",
       "    }\n",
       "\n",
       "    .dataframe tbody tr th {\n",
       "        vertical-align: top;\n",
       "    }\n",
       "</style>\n",
       "<table border=\"1\" class=\"dataframe\">\n",
       "  <thead>\n",
       "    <tr style=\"text-align: right;\">\n",
       "      <th></th>\n",
       "      <th>from_this_person_to_poi</th>\n",
       "      <th>from_messages</th>\n",
       "    </tr>\n",
       "  </thead>\n",
       "  <tbody>\n",
       "  </tbody>\n",
       "</table>\n",
       "</div>"
      ],
      "text/plain": [
       "Empty DataFrame\n",
       "Columns: [from_this_person_to_poi, from_messages]\n",
       "Index: []"
      ]
     },
     "execution_count": 28,
     "metadata": {},
     "output_type": "execute_result"
    }
   ],
   "source": [
    "eron_data[eron_data['from_messages'] < eron_data['from_this_person_to_poi']][['from_this_person_to_poi', 'from_messages']]"
   ]
  },
  {
   "cell_type": "code",
   "execution_count": 29,
   "metadata": {
    "collapsed": true
   },
   "outputs": [],
   "source": [
    "from __future__ import division\n",
    "# 'to_messages', 'from_messages', 'shared_receipt_with_poi', 'from_this_person_to_poi', 'from_poi_to_this_person'\n",
    "def compute_fraction_poi_total_messages(poi_messages, total_messages):\n",
    "    fraction_messages = 0.\n",
    "    \n",
    "    if(poi_messages !='NaN' and total_messages != 'NaN'):\n",
    "        fraction_messages = poi_messages/total_messages\n",
    "    \n",
    "    return fraction_messages\n",
    "\n",
    "def compute_fraction_from_poi_to_person(person_data):\n",
    "\n",
    "    qtd_messages_total = person_data['to_messages']\n",
    "    qtd_messages_from_poi = person_data['from_poi_to_this_person']\n",
    "    fraction_messages_from_poi = compute_fraction_poi_total_messages(qtd_messages_from_poi,qtd_messages_total)\n",
    "    \n",
    "    return fraction_messages_from_poi\n",
    "\n",
    "def compute_fraction_from_person_to_poi(person_data):\n",
    "    \n",
    "    qtd_messages_to_total = person_data['from_messages']\n",
    "    qtd_messages_to_poi = person_data['from_this_person_to_poi']\n",
    "    fraction_messages_to_poi = compute_fraction_poi_total_messages( qtd_messages_to_poi, qtd_messages_to_total)\n",
    "    \n",
    "    return fraction_messages_to_poi\n"
   ]
  },
  {
   "cell_type": "code",
   "execution_count": 30,
   "metadata": {},
   "outputs": [
    {
     "name": "stdout",
     "output_type": "stream",
     "text": [
      "(0.04708798017348203, 0.034482758620689655)\n",
      "(0.0, 0.0)\n",
      "(0.0, 0.0)\n",
      "(0.013089005235602094, 0.0)\n",
      "(0.03062200956937799, 0.65625)\n",
      "(0.0, 0.0)\n",
      "(0.0, 0.0)\n",
      "(0.024628450106157114, 0.5416666666666666)\n",
      "(0.01872340425531915, 0.013979496738117428)\n",
      "(0.049273021001615507, 0.21621621621621623)\n",
      "(0.078125, 1.0)\n",
      "(0.10810810810810811, 0.0)\n",
      "(0.010101010101010102, 0.14285714285714285)\n",
      "(0.013978088401964487, 0.34210526315789475)\n",
      "(0.0, 0.0)\n",
      "(0.0, 0.0)\n",
      "(0.13651877133105803, 0.275)\n",
      "(0.08823529411764706, 0.0)\n",
      "(0.09689922480620156, 0.3392857142857143)\n",
      "(0.0, 0.0)\n",
      "(0.0, 0.0)\n",
      "(0.02533532041728763, 0.0)\n",
      "(0.030222757375075255, 0.11226851851851852)\n",
      "(0.0, 0.0)\n",
      "(0.0, 0.0)\n",
      "(0.029183483390251473, 0.030958597538232)\n",
      "(0.0, 0.0)\n",
      "(0.010443864229765013, 0.0)\n",
      "(0.0, 0.0)\n",
      "(0.01431238332296204, 0.2)\n",
      "(0.02635542168674699, 0.5853658536585366)\n",
      "(0.0, 0.0)\n",
      "(0.01968557758031442, 0.08887865530739121)\n",
      "(0.006980802792321117, 0.3684210526315789)\n",
      "(0.0, 0.0)\n",
      "(0.0, 0.0)\n",
      "(0.030303030303030304, 0.037037037037037035)\n",
      "(0.0, 0.0)\n",
      "(0.01050420168067227, 0.0)\n",
      "(0.031746031746031744, 0.0)\n",
      "(0.017445917655268667, 0.009302325581395349)\n",
      "(0.0, 0.0)\n",
      "(0.02374202693125443, 0.2222222222222222)\n",
      "(0.07273729163796666, 0.15899419729206962)\n",
      "(0.0, 0.0)\n",
      "(0.0, 0.0)\n",
      "(0.0, 0.0)\n",
      "(0.0, 0.0)\n",
      "(0.0, 0.0)\n",
      "(0.06890459363957598, 0.0)\n",
      "(0.0, 0.0)\n",
      "(0.0048848108786058485, 0.053497942386831275)\n",
      "(0.008785691873235017, 0.25)\n",
      "(0.057777777777777775, 0.358974358974359)\n",
      "(0.0, 0.0)\n",
      "(0.16106442577030813, 0.05405405405405406)\n",
      "(0.0, 0.0)\n",
      "(0.03090214321315833, 0.04316546762589928)\n",
      "(0.02763592670471613, 0.07075127644055434)\n",
      "(0.0, 0.0625)\n",
      "(0.02133850630455868, 0.198435972629521)\n",
      "(0.0, 0.0)\n",
      "(0.0, 0.0)\n",
      "(0.0, 0.0)\n",
      "(0.0, 0.0)\n",
      "(0.028785396676807865, 0.4444444444444444)\n",
      "(0.0, 0.0)\n",
      "(0.016891891891891893, 0.28846153846153844)\n",
      "(0.06040268456375839, 0.07692307692307693)\n",
      "(0.0, 0.0)\n",
      "(0.0, 0.0)\n",
      "(0.02981651376146789, 0.0)\n",
      "(0.0, 0.0)\n",
      "(0.0, 0.0)\n",
      "(0.0, 0.0)\n",
      "(0.04489897730107259, 0.03142709943328181)\n",
      "(0.07534983853606028, 0.5555555555555556)\n",
      "(0.0, 0.0)\n",
      "(0.0010683760683760685, 0.5)\n",
      "(0.0, 0.0)\n",
      "(0.12208258527827648, 0.22171945701357465)\n",
      "(0.0, 0.0)\n",
      "(0.028532098610937303, 0.2231404958677686)\n",
      "(0.1172566371681416, 0.25)\n",
      "(0.0, 0.0)\n",
      "(0.0, 0.0)\n",
      "(0.0, 0.0)\n",
      "(0.07659738260200154, 0.1736111111111111)\n",
      "(0.04640883977900553, 0.2222222222222222)\n",
      "(0.008899500759713479, 0.011901447661469933)\n",
      "(0.0, 0.0)\n",
      "(0.0, 0.12121212121212122)\n",
      "(0.0, 0.0)\n",
      "(0.0, 0.0)\n",
      "(0.0, 0.0)\n",
      "(0.0242624758753791, 0.2777777777777778)\n",
      "(0.0, 0.0)\n",
      "(0.0636215334420881, 0.72)\n",
      "(0.0, 0.0)\n",
      "(0.0, 0.0)\n",
      "(0.0077951002227171495, 0.0)\n",
      "(0.0, 0.0)\n",
      "(0.0, 0.0)\n",
      "(0.010976948408342482, 0.05725699067909454)\n",
      "(0.0, 0.0)\n",
      "(0.055, 0.23333333333333334)\n",
      "(0.0, 0.0)\n",
      "(0.0, 0.0)\n",
      "(0.016195727084769126, 0.029612756264236904)\n",
      "(0.007653061224489796, 0.04411764705882353)\n",
      "(0.0, 0.0)\n",
      "(0.0, 0.0)\n",
      "(0.008748317631224764, 0.024390243902439025)\n",
      "(0.0, 0.0)\n",
      "(0.048678720445062586, 0.14705882352941177)\n",
      "(0.0, 0.0)\n",
      "(0.0, 0.0)\n",
      "(0.0, 0.034482758620689655)\n",
      "(0.09294871794871795, 0.4666666666666667)\n",
      "(0.0, 0.0)\n",
      "(0.0, 0.0)\n",
      "(0.005018248175182482, 0.044444444444444446)\n",
      "(0.04784688995215311, 0.6136363636363636)\n",
      "(0.056818181818181816, 0.21428571428571427)\n",
      "(0.0, 0.0)\n",
      "(0.0, 0.0)\n",
      "(0.11858475894245724, 0.2222222222222222)\n",
      "(0.029344337459880788, 0.022002200220022004)\n",
      "(0.07389312977099237, 0.2857142857142857)\n",
      "(0.0, 0.0)\n",
      "(0.0, 0.0)\n",
      "(0.01321253303133258, 0.03581526861451461)\n",
      "(0.0, 0.0)\n",
      "(0.023931623931623933, 0.49333333333333335)\n",
      "(0.02232518955349621, 0.2459016393442623)\n",
      "(0.0, 0.0)\n",
      "(0.056451612903225805, 0.2631578947368421)\n",
      "(0.021739130434782608, 0.5789473684210527)\n",
      "(0.005256241787122208, 0.0)\n",
      "(0.04428044280442804, 0.06742640075973409)\n",
      "(0.0, 0.0)\n",
      "(0.0306553911205074, 0.24489795918367346)\n",
      "(0.0, 0.0)\n",
      "(0.21734104046242775, 0.5)\n",
      "(0.05956471935853379, 0.375)\n"
     ]
    }
   ],
   "source": [
    "# Engineer a new feature\n",
    "\n",
    "\n",
    "for person_name in my_dataset:\n",
    "    person_data = my_dataset[person_name]\n",
    "    person_data[\"fraction_messages_from_poi\"] = compute_fraction_from_poi_to_person(person_data);\n",
    "    person_data[\"fraction_messages_to_poi\"] = compute_fraction_from_person_to_poi(person_data);\n",
    "    print(person_data[\"fraction_messages_from_poi\"],person_data[\"fraction_messages_to_poi\"])\n",
    "    \n"
   ]
  },
  {
   "cell_type": "code",
   "execution_count": 31,
   "metadata": {},
   "outputs": [
    {
     "name": "stdout",
     "output_type": "stream",
     "text": [
      "{'to_messages': 566, 'fraction_messages_from_poi': 0.06890459363957598, 'deferral_payments': 'NaN', 'expenses': 56301, 'fraction_messages_to_poi': 0.0, 'poi': False, 'deferred_income': -5104, 'email_address': 'james.bannantine@enron.com', 'long_term_incentive': 'NaN', 'restricted_stock_deferred': -560222, 'shared_receipt_with_poi': 465, 'loan_advances': 'NaN', 'from_messages': 29, 'other': 864523, 'director_fees': 'NaN', 'bonus': 'NaN', 'total_stock_value': 5243487, 'from_poi_to_this_person': 39, 'from_this_person_to_poi': 0, 'restricted_stock': 1757552, 'salary': 477, 'total_payments': 916197, 'exercised_stock_options': 4046157}\n"
     ]
    }
   ],
   "source": [
    "print(my_dataset['BANNANTINE JAMES M'])"
   ]
  },
  {
   "cell_type": "code",
   "execution_count": 32,
   "metadata": {
    "collapsed": true
   },
   "outputs": [],
   "source": [
    "new_features = [\"fraction_messages_from_poi\",\"fraction_messages_to_poi\"]\n",
    "\n",
    "for feature_name in new_features:\n",
    "    if feature_name  not in features_list:\n",
    "        features_list.append(feature_name)"
   ]
  },
  {
   "cell_type": "code",
   "execution_count": 33,
   "metadata": {},
   "outputs": [
    {
     "data": {
      "image/png": "[encoded data removed]",
      "text/plain": [
       "<matplotlib.figure.Figure at 0x10c44fb90>"
      ]
     },
     "metadata": {},
     "output_type": "display_data"
    }
   ],
   "source": [
    "### plot new features\n",
    "fraction_list = ['poi','fraction_messages_from_poi','fraction_messages_to_poi']\n",
    "data_fraction = featureFormat(my_dataset,fraction_list)\n",
    "for point in data_fraction:\n",
    "    from_point = point[1]\n",
    "    to_point = point[2]\n",
    "    if point[0] == 1:\n",
    "        plt.scatter(from_point,to_point,color=\"r\",marker=\"*\")\n",
    "    else:\n",
    "        plt.scatter(from_point, to_point,color=\"b\")\n",
    "plt.ylabel(\"From this person to Poi\")\n",
    "plt.xlabel('From Poi to this person')\n",
    "plt.show()"
   ]
  },
  {
   "cell_type": "markdown",
   "metadata": {},
   "source": [
    "##### Feature selection"
   ]
  },
  {
   "cell_type": "code",
   "execution_count": 34,
   "metadata": {
    "collapsed": true
   },
   "outputs": [],
   "source": [
    "# features_list = ['poi','salary', 'restricted_stock','bonus', \n",
    "#                  'total_payments', 'total_stock_value','expenses',\n",
    "#                  'fraction_messages_from_poi','fraction_messages_to_poi','from_this_person_to_poi', 'from_poi_to_this_person']"
   ]
  },
  {
   "cell_type": "code",
   "execution_count": 35,
   "metadata": {},
   "outputs": [
    {
     "name": "stdout",
     "output_type": "stream",
     "text": [
      "('Initial data shape:', (144, 19))\n",
      "('Feature_list:', ['poi', 'salary', 'to_messages', 'from_messages', 'from_poi_to_this_person', 'from_this_person_to_poi', 'deferral_payments', 'other', 'total_payments', 'bonus', 'total_stock_value', 'shared_receipt_with_poi', 'long_term_incentive', 'exercised_stock_options', 'deferred_income', 'expenses', 'restricted_stock', 'fraction_messages_from_poi', 'fraction_messages_to_poi'])\n"
     ]
    }
   ],
   "source": [
    "data = featureFormat(my_dataset, features_list, sort_keys = True)\n",
    "labels, features = targetFeatureSplit(data)\n",
    "print(\"Initial data shape:\", data.shape)\n",
    "print(\"Feature_list:\", features_list)"
   ]
  },
  {
   "cell_type": "code",
   "execution_count": 36,
   "metadata": {},
   "outputs": [
    {
     "data": {
      "text/plain": [
       "((144, 19), (144, 18))"
      ]
     },
     "execution_count": 36,
     "metadata": {},
     "output_type": "execute_result"
    }
   ],
   "source": [
    "features = np.array(features)\n",
    "\n",
    "data.shape,features.shape"
   ]
  },
  {
   "cell_type": "code",
   "execution_count": 37,
   "metadata": {
    "collapsed": true
   },
   "outputs": [],
   "source": [
    "import numpy as np\n",
    "import pandas as pd \n",
    "data_pd = pd.DataFrame(data=data)\n",
    "corr = data_pd.corr()"
   ]
  },
  {
   "cell_type": "code",
   "execution_count": 38,
   "metadata": {},
   "outputs": [
    {
     "data": {
      "text/plain": [
       "(19, 19)"
      ]
     },
     "execution_count": 38,
     "metadata": {},
     "output_type": "execute_result"
    }
   ],
   "source": [
    "corr.shape"
   ]
  },
  {
   "cell_type": "code",
   "execution_count": 39,
   "metadata": {},
   "outputs": [
    {
     "name": "stdout",
     "output_type": "stream",
     "text": [
      "('Final shape of parameters', (144, 10))\n",
      "('Feature scores:', array([ 18.57570327,   1.69882435,   0.1641645 ,   5.34494152,\n",
      "         2.42650813,   0.21705893,   4.20497086,   8.86672154,\n",
      "        21.06000171,  24.46765405,   8.74648553,  10.07245453,\n",
      "        25.09754153,  11.59554766,   6.23420114,   9.34670079,\n",
      "         3.21076192,  16.64170707]))\n"
     ]
    }
   ],
   "source": [
    "# Feature selection - selectionkbest, select percentile,lasso regression\n",
    "from sklearn.feature_selection import SelectPercentile,SelectKBest,chi2\n",
    "\n",
    "selector = SelectKBest(k=10)\n",
    "new_data = selector.fit_transform(features,labels)\n",
    "scores_KB = selector.scores_\n",
    "\n",
    "print(\"Final shape of parameters\",new_data.shape)\n",
    "print(\"Feature scores:\",selector.scores_)\n",
    "                                                                                                                                                                                                                   "
   ]
  },
  {
   "cell_type": "code",
   "execution_count": 40,
   "metadata": {},
   "outputs": [
    {
     "name": "stdout",
     "output_type": "stream",
     "text": [
      "[ 18.57570327   1.69882435   0.1641645    5.34494152   2.42650813\n",
      "   0.21705893   4.20497086   8.86672154  21.06000171  24.46765405\n",
      "   8.74648553  10.07245453  25.09754153  11.59554766   6.23420114\n",
      "   9.34670079   3.21076192  16.64170707]\n",
      "[12  9  8  0 17 13 11 15  7 10 14  3  6 16  4  1  5  2]\n",
      "Feature Ranking\n",
      "1 feature exercised_stock_options (25.0975415287)\n",
      "2 feature total_stock_value (24.4676540475)\n",
      "3 feature bonus (21.0600017075)\n",
      "4 feature salary (18.575703268)\n",
      "5 feature fraction_messages_to_poi (16.6417070705)\n",
      "6 feature deferred_income (11.5955476597)\n",
      "7 feature long_term_incentive (10.0724545294)\n",
      "8 feature restricted_stock (9.34670079105)\n",
      "9 feature total_payments (8.86672153711)\n",
      "10 feature shared_receipt_with_poi (8.74648553213)\n",
      "11 feature expenses (6.23420114051)\n",
      "12 feature from_poi_to_this_person (5.34494152315)\n",
      "13 feature other (4.2049708583)\n",
      "14 feature fraction_messages_from_poi (3.21076191697)\n",
      "15 feature from_this_person_to_poi (2.42650812724)\n",
      "16 feature to_messages (1.69882434858)\n",
      "17 feature deferral_payments (0.21705893034)\n"
     ]
    }
   ],
   "source": [
    "import numpy as np\n",
    "\n",
    "scores = selector.scores_\n",
    "print(scores)\n",
    "indices = np.argsort(scores)[::-1]\n",
    "print(indices)\n",
    "print 'Feature Ranking'\n",
    "for i in range(len(scores)-1): \n",
    "    print \"{} feature {} ({})\".format(i+1,features_list[indices[i]+1],scores[indices[i]])"
   ]
  },
  {
   "cell_type": "markdown",
   "metadata": {},
   "source": [
    "I used SelectBestK with k = 3. Then I stayed with the top 3 features: ['salary','restricted_stock','bonus']. I also noticed that they all are financial data. With them I got in a DecisionTree an accuracy of 0.83, a recall of 0.44 and a precision of 0.8."
   ]
  },
  {
   "cell_type": "markdown",
   "metadata": {},
   "source": [
    "\n",
    "#### Feature scaling"
   ]
  },
  {
   "cell_type": "code",
   "execution_count": 41,
   "metadata": {
    "collapsed": true
   },
   "outputs": [],
   "source": [
    "# from sklearn.decomposition import PCA\n",
    "# #Pca\n",
    "# pca = PCA(n_components=2)\n",
    "# features = pca.fit_transform(new_data)"
   ]
  },
  {
   "cell_type": "code",
   "execution_count": 42,
   "metadata": {
    "collapsed": true
   },
   "outputs": [],
   "source": [
    "# Feature scalling for restricted stock\n",
    "# from sklearn.preprocessing import StandardScaler\n",
    "\n",
    "# def standarlize_matrix(arr):\n",
    "#     standardScaler = StandardScaler()\n",
    "#     arr_standerized = standardScaler.fit_transform(arr)\n",
    "#     return arr;\n",
    "\n",
    "# data = featureFormat(my_dataset, features_list, sort_keys = True)\n",
    "\n",
    "# new_data = standarlize_matrix(data);"
   ]
  },
  {
   "cell_type": "code",
   "execution_count": 43,
   "metadata": {
    "collapsed": true
   },
   "outputs": [],
   "source": [
    "# line = 0\n",
    "# for row in my_dataset:\n",
    "#     i = 0;\n",
    "#     for feature in features_list:\n",
    "#         if(line < len(new_data)):\n",
    "#             my_dataset[row][feature] = new_data[line][i]\n",
    "#         i += 1;\n",
    "#     line += 1"
   ]
  },
  {
   "cell_type": "markdown",
   "metadata": {},
   "source": [
    "I tried two types of feature scalling: min-max (normalization) and also standalization. I notice that with min-max my accuracy went worse than without feature scalling. Then I tried standardlization and it performed better than without it improving our accuracy from 0.83 to near 0.86. In my opinion, it is due to the way that min-max treats outliers."
   ]
  },
  {
   "cell_type": "markdown",
   "metadata": {},
   "source": [
    "#### Question: \n",
    "What features did you end up using in your POI identifier, and what selection process did you use to pick them? Did you have to do any scaling? Why or why not? As part of the assignment, you should attempt to engineer your own feature that does not come ready-made in the dataset -- explain what feature you tried to make, and the rationale behind it. (You do not necessarily have to use it in the final analysis, only engineer and test it.) In your feature selection step, if you used an algorithm like a decision tree, please also give the feature importances of the features that you use, and if you used an automated feature selection function like SelectKBest, please report the feature scores and reasons for your choice of parameter values.  [relevant rubric items: “create new features”, “intelligently select features”, “properly scale features”]\n",
    "\n",
    "\n",
    "#### Answer\n",
    "\n",
    "I end up using in my POI identifier the features 'poi', 'salary', 'restricted_stock', 'bonus', 'total_payments', 'total_stock_value' to select them I used the SelectKBest and I end up latter scalling them in oder to to standarlize the features. I created two new variables fraction of emails received from POI and fraction of emails sent to poi. I noticed that the features that helped me to identify poi were the financial features.  "
   ]
  },
  {
   "cell_type": "markdown",
   "metadata": {},
   "source": [
    "## Pick an Algorithm\n",
    "\n",
    "- Pick an algorithm (related lessons: \"Naive Bayes\" through \"Choose Your Own Algorithm\")\n",
    "\n",
    "At least two different algorithms are attempted and their performance is compared, with the best performing one used in the final analysis.\n"
   ]
  },
  {
   "cell_type": "markdown",
   "metadata": {},
   "source": [
    "Let's first separate between train and test data set."
   ]
  },
  {
   "cell_type": "code",
   "execution_count": 44,
   "metadata": {
    "collapsed": true
   },
   "outputs": [],
   "source": [
    "my_data = featureFormat(my_dataset, features_list, sort_keys = True)\n",
    "labels, features = targetFeatureSplit(my_data)\n",
    "\n",
    "# Train and test\n",
    "from sklearn.model_selection import train_test_split\n",
    "features_train, features_test, labels_train, labels_test = \\\n",
    "    train_test_split(features, labels, test_size=0.3, random_state=42)"
   ]
  },
  {
   "cell_type": "code",
   "execution_count": 45,
   "metadata": {
    "collapsed": true
   },
   "outputs": [],
   "source": [
    "#Function that will help to compute metrics.\n",
    "from sklearn.metrics import accuracy_score,precision_score,recall_score\n",
    "\n",
    "def compute_metrics(predict,labels_test):\n",
    "\n",
    "    accuracy = accuracy_score(predict,labels_test);\n",
    "    recall = recall_score(predict,labels_test);\n",
    "    precision = precision_score(predict,labels_test);\n",
    "\n",
    "    print \"Accuracy Score: {}%\".format(accuracy) + \" Recall Score: {}%\".format(recall) + \" Precision Score: {}%\".format(precision);"
   ]
  },
  {
   "cell_type": "markdown",
   "metadata": {},
   "source": [
    "Then we will peak an algorithm.\n",
    "I will try to fit with:\n",
    "    - Knn\n",
    "    - Decision Tree\n",
    "    - Random Forest\n",
    "    - Ada Boost"
   ]
  },
  {
   "cell_type": "code",
   "execution_count": 46,
   "metadata": {},
   "outputs": [
    {
     "name": "stdout",
     "output_type": "stream",
     "text": [
      "Accuracy Score: 0.863636363636% Recall Score: 0.4% Precision Score: 0.4%\n"
     ]
    }
   ],
   "source": [
    "### Task 4: Try a varity of classifiers\n",
    "### Please name your classifier clf for easy export below.\n",
    "### Note that if you want to do PCA or other multi-stage operations,\n",
    "### you'll need to use Pipelines. For more info:\n",
    "### http://scikit-learn.org/stable/modules/pipeline.html\n",
    "\n",
    "# Provided to give you a starting point. Try a variety of classifiers.\n",
    "from sklearn.naive_bayes import GaussianNB\n",
    "clf = GaussianNB()\n",
    "clf.fit(features_train,labels_train)\n",
    "predict = clf.predict(features_test)\n",
    "compute_metrics(predict,labels_test);"
   ]
  },
  {
   "cell_type": "code",
   "execution_count": 47,
   "metadata": {},
   "outputs": [
    {
     "name": "stdout",
     "output_type": "stream",
     "text": [
      "Accuracy Score: 0.909090909091% Recall Score: 0.666666666667% Precision Score: 0.4%\n"
     ]
    }
   ],
   "source": [
    "from sklearn.neighbors import KNeighborsClassifier\n",
    "clf = KNeighborsClassifier(n_neighbors=3)\n",
    "clf.fit(features_train,labels_train)\n",
    "predict = clf.predict(features_test)\n",
    "compute_metrics(predict,labels_test);"
   ]
  },
  {
   "cell_type": "code",
   "execution_count": 48,
   "metadata": {
    "collapsed": true
   },
   "outputs": [],
   "source": [
    "#Decision Tree\n",
    "from sklearn.tree import DecisionTreeClassifier\n",
    "\n",
    "clf = DecisionTreeClassifier()\n",
    "clf.fit(features_train,labels_train)\n",
    "\n",
    "predict = clf.predict(features_test)"
   ]
  },
  {
   "cell_type": "code",
   "execution_count": 49,
   "metadata": {},
   "outputs": [
    {
     "name": "stdout",
     "output_type": "stream",
     "text": [
      "Accuracy Score: 0.772727272727% Recall Score: 0.0% Precision Score: 0.0%\n",
      "(array([ 0.,  0.,  0.,  0.,  0.,  0.,  0.,  0.,  0.,  0.,  0.,  1.,  0.,\n",
      "        0.,  0.,  0.,  0.,  0.,  0.,  1.,  0.,  1.,  0.,  0.,  0.,  0.,\n",
      "        0.,  1.,  0.,  0.,  0.,  0.,  0.,  0.,  0.,  0.,  0.,  0.,  0.,\n",
      "        0.,  0.,  0.,  1.,  0.]), [0.0, 0.0, 0.0, 0.0, 0.0, 0.0, 0.0, 1.0, 0.0, 0.0, 0.0, 0.0, 0.0, 0.0, 0.0, 0.0, 0.0, 0.0, 0.0, 0.0, 0.0, 0.0, 0.0, 0.0, 0.0, 0.0, 0.0, 0.0, 1.0, 0.0, 1.0, 0.0, 0.0, 0.0, 0.0, 0.0, 1.0, 0.0, 1.0, 0.0, 0.0, 0.0, 0.0, 0.0])\n"
     ]
    }
   ],
   "source": [
    "compute_metrics(predict,labels_test);\n",
    "print(predict,labels_test);"
   ]
  },
  {
   "cell_type": "code",
   "execution_count": 50,
   "metadata": {},
   "outputs": [
    {
     "name": "stdout",
     "output_type": "stream",
     "text": [
      "Accuracy Score: 0.840909090909% Recall Score: 0.25% Precision Score: 0.2%\n"
     ]
    }
   ],
   "source": [
    "from sklearn.ensemble import AdaBoostClassifier\n",
    "clf = AdaBoostClassifier(n_estimators=110)\n",
    "clf.fit(features_train,labels_train)\n",
    "predict = clf.predict(features_test)\n",
    "compute_metrics(predict,labels_test);"
   ]
  },
  {
   "cell_type": "code",
   "execution_count": 51,
   "metadata": {},
   "outputs": [
    {
     "name": "stdout",
     "output_type": "stream",
     "text": [
      "Accuracy Score: 0.909090909091% Recall Score: 1.0% Precision Score: 0.2%\n"
     ]
    }
   ],
   "source": [
    "from sklearn.ensemble import RandomForestClassifier\n",
    "clf = RandomForestClassifier(n_estimators=100)\n",
    "clf.fit(features_train,labels_train)\n",
    "predict = clf.predict(features_test)\n",
    "compute_metrics(predict,labels_test);"
   ]
  },
  {
   "cell_type": "markdown",
   "metadata": {},
   "source": [
    "#### Question:\n",
    "What algorithm did you end up using? What other one(s) did you try? How did model performance differ between algorithms?  [relevant rubric item: “pick an algorithm”]"
   ]
  },
  {
   "cell_type": "markdown",
   "metadata": {},
   "source": [
    "#### Answer:"
   ]
  },
  {
   "cell_type": "markdown",
   "metadata": {
    "collapsed": true
   },
   "source": [
    "I tried to use knn, naive bayes, decision trees and some ensembles classifiers like adaboost and random forest. I noticed that with knn. I had a better accuracy so I picked as my final algorithm."
   ]
  },
  {
   "cell_type": "markdown",
   "metadata": {},
   "source": [
    "## Tune an Algorithm\n",
    "\n",
    "- Discuss parameter tuning and its importance.:\n",
    "\n",
    "Response addresses what it means to perform parameter tuning and why it is important.\n",
    "\n",
    "- Tune the algorithm (related lesson: \"Validation\"):\n",
    "\n",
    "At least one important parameter tuned with at least 3 settings investigated systematically, or any of the following are true:\n",
    "\n",
    "GridSearchCV used for parameter tuning\n",
    "Several parameters tuned\n",
    "Parameter tuning incorporated into algorithm selection (i.e. parameters tuned for more than one algorithm, and best algorithm-tune combination selected for final analysis).\n",
    "\n",
    "\n",
    "- Algorithm Performance\n",
    "\n",
    "When tester.py is used to evaluate performance, precision and recall are both at least 0.3.\n",
    "\n",
    "- Validation Strategy (related lesson \"Validation\")\n",
    "\n",
    "Performance of the final algorithm selected is assessed by splitting the data into training and testing sets or through the use of cross validation, noting the specific type of validation performed. \n"
   ]
  },
  {
   "cell_type": "code",
   "execution_count": 52,
   "metadata": {
    "collapsed": true
   },
   "outputs": [],
   "source": [
    "from sklearn.model_selection import StratifiedKFold,GridSearchCV\n",
    "\n",
    "def init_cross_validation(train_reduced, labels):\n",
    "    \n",
    "    cross_validation = StratifiedKFold(n_splits=3)\n",
    "    cross_validation.get_n_splits(train_reduced, labels)\n",
    "    \n",
    "    return cross_validation;\n",
    "\n",
    "def generate_grid_search_model(model,parameters,train_reduced,labels):\n",
    "    \n",
    "    cross_validation = init_cross_validation(train_reduced, labels);\n",
    "    \n",
    "    grid_search = GridSearchCV(model,\n",
    "                               scoring='accuracy',\n",
    "                               param_grid = parameters,\n",
    "                               cv = cross_validation)\n",
    "\n",
    "    grid_search.fit(train_reduced, labels)\n",
    "    model = grid_search\n",
    "    parameters = grid_search.best_params_\n",
    "\n",
    "    print('Best score: {}'.format(grid_search.best_score_))\n",
    "    print('Best parameters: {}'.format(grid_search.best_params_))\n",
    "    \n",
    "    return model"
   ]
  },
  {
   "cell_type": "code",
   "execution_count": 53,
   "metadata": {
    "collapsed": true
   },
   "outputs": [],
   "source": [
    "def create_KNeighbors(train_reduced,labels,run_grid_search=False):\n",
    "    \n",
    "    if run_grid_search:\n",
    "        \n",
    "        parameter_grid = {\n",
    "            'n_neighbors' : [3,4,5],\n",
    "            'weights' : ['distance','uniform'],\n",
    "            'leaf_size':[30,40],\n",
    "            'algorithm' : ['auto', 'ball_tree', 'kd_tree', 'brute'],\n",
    "            'p': [1,2,3]\n",
    "        }\n",
    "        clf =  KNeighborsClassifier()\n",
    "        clf = generate_grid_search_model(clf,parameter_grid,train_reduced,labels)\n",
    "    else: \n",
    "        parameters = {'n_neighbors': 4, 'weights': 'uniform', 'leaf_size': 30, 'algorithm': 'auto', 'p': 2}\n",
    "        clf = KNeighborsClassifier(**parameters)\n",
    "        clf.fit(train_reduced, labels)\n",
    "\n",
    "    return clf"
   ]
  },
  {
   "cell_type": "code",
   "execution_count": 54,
   "metadata": {
    "collapsed": true
   },
   "outputs": [],
   "source": [
    "def create_random_forest(train_reduced,labels,run_grid_search=False):\n",
    "    \n",
    "    if run_grid_search:\n",
    "        \n",
    "        parameter_grid = {\n",
    "            'max_depth' : [4, 6, 8],\n",
    "            'n_estimators': [50,100],\n",
    "            'max_features': ['sqrt', 'auto', 'log2'],\n",
    "            'min_samples_split': [3, 10],\n",
    "            'min_samples_leaf': [1, 3, 10],\n",
    "            'bootstrap': [True, False],\n",
    "        }\n",
    "        clf = RandomForestClassifier()\n",
    "        clf = generate_grid_search_model(clf,parameter_grid,train_reduced,labels)\n",
    "    else: \n",
    "        parameters = {\n",
    "            'bootstrap': False, 'min_samples_leaf': 1, \n",
    "            'n_estimators': 50, 'min_samples_split': 3, \n",
    "            'max_features': 'sqrt', 'max_depth': 4\n",
    "        }\n",
    "\n",
    "        clf = RandomForestClassifier(**parameters)\n",
    "        clf.fit(train_reduced, labels)\n",
    "\n",
    "    return clf"
   ]
  },
  {
   "cell_type": "code",
   "execution_count": 55,
   "metadata": {
    "collapsed": true
   },
   "outputs": [],
   "source": [
    "def create_AdaBoost(train_reduced,labels,run_grid_search=False):\n",
    "    \n",
    "    if run_grid_search:\n",
    "        \n",
    "        parameter_grid = {\n",
    "            'n_estimators': [100,110,120,130]\n",
    "        }\n",
    "        clf = AdaBoostClassifier()\n",
    "        clf = generate_grid_search_model(clf,parameter_grid,train_reduced,labels)\n",
    "    else: \n",
    "        parameters = {\n",
    "            'n_estimators': 130\n",
    "        }\n",
    "\n",
    "        clf = AdaBoostClassifier(**parameters)\n",
    "        clf.fit(train_reduced, labels)\n",
    "\n",
    "    return clf"
   ]
  },
  {
   "cell_type": "code",
   "execution_count": 65,
   "metadata": {},
   "outputs": [],
   "source": [
    "#clf =  create_KNeighbors(features,labels,run_grid_search=False)\n",
    "clf =  create_random_forest(features,labels,run_grid_search=False)"
   ]
  },
  {
   "cell_type": "code",
   "execution_count": null,
   "metadata": {},
   "outputs": [
    {
     "name": "stdout",
     "output_type": "stream",
     "text": [
      "Best score: 0.854166666667\n",
      "Best parameters: {'n_estimators': 130}\n"
     ]
    }
   ],
   "source": [
    "clf = create_AdaBoost(features,labels,run_grid_search=True)"
   ]
  },
  {
   "cell_type": "code",
   "execution_count": 61,
   "metadata": {
    "collapsed": true
   },
   "outputs": [],
   "source": [
    "clf = GaussianNB()"
   ]
  },
  {
   "cell_type": "markdown",
   "metadata": {},
   "source": [
    "#### Question\n",
    "What does it mean to tune the parameters of an algorithm, and what can happen if you don’t do this well?  How did you tune the parameters of your particular algorithm? What parameters did you tune? (Some algorithms do not have parameters that you need to tune -- if this is the case for the one you picked, identify and briefly explain how you would have done it for the model that was not your final choice or a different model that does utilize parameter tuning, e.g. a decision tree classifier).  [relevant rubric items: “discuss parameter tuning”, “tune the algorithm”]"
   ]
  },
  {
   "cell_type": "markdown",
   "metadata": {},
   "source": [
    "#### Answer:"
   ]
  },
  {
   "cell_type": "markdown",
   "metadata": {
    "collapsed": true
   },
   "source": [
    "Tuning the algorithm means finding the best parameters for a certain model, that gives a better results. \n",
    "I tuned my particular algorithm with GridSearchCV. For my Adaboost model I tuned the n_estimators. And the final result was "
   ]
  },
  {
   "cell_type": "markdown",
   "metadata": {},
   "source": [
    "### Validate and Evaluate\n",
    "- Usage of Evaluation Metrics (related lesson: \"Evaluation Metrics\")\n",
    "\t\n",
    "At least two appropriate metrics are used to evaluate algorithm performance (e.g. precision and recall), and the student articulates what those metrics measure in context of the project task.\n",
    "\n",
    "- Discuss validation and its importance.\n",
    "\n",
    "Response addresses what validation is and why it is important.\n"
   ]
  },
  {
   "cell_type": "markdown",
   "metadata": {},
   "source": [
    "Evaluate"
   ]
  },
  {
   "cell_type": "code",
   "execution_count": 58,
   "metadata": {},
   "outputs": [
    {
     "name": "stdout",
     "output_type": "stream",
     "text": [
      "Accuracy Score: 1.0% Recall Score: 1.0% Precision Score: 1.0%\n"
     ]
    }
   ],
   "source": [
    "predict = clf.predict(features_test)\n",
    "compute_metrics(predict,labels_test);"
   ]
  },
  {
   "cell_type": "code",
   "execution_count": null,
   "metadata": {},
   "outputs": [],
   "source": [
    "tester.dump_classifier_and_data(clf, my_dataset, features_list)\n",
    "tester.main()"
   ]
  },
  {
   "cell_type": "markdown",
   "metadata": {},
   "source": [
    "#### Question\n",
    "What is validation, and what’s a classic mistake you can make if you do it wrong? How did you validate your analysis?  [relevant rubric items: “discuss validation”, “validation strategy”]"
   ]
  },
  {
   "cell_type": "markdown",
   "metadata": {},
   "source": [
    "#### Answer:"
   ]
  },
  {
   "cell_type": "markdown",
   "metadata": {},
   "source": [
    "Validation process is when you divided your dataset into train, test datasets. A classic mistake is to not divide into these to dataset and use the entire data to train your model. I validade my model using a croess-validation (that means dividing my dataset into small chucks and using most of them to train and a chuck to test and then repeat the process).To validate my model I used a  k-fold = 5."
   ]
  },
  {
   "cell_type": "markdown",
   "metadata": {},
   "source": [
    "#### Question: \n",
    "\n",
    "Give at least 2 evaluation metrics and your average performance for each of them.  Explain an interpretation of your metrics that says something human-understandable about your algorithm’s performance. [relevant rubric item: “usage of evaluation metrics”]"
   ]
  },
  {
   "cell_type": "markdown",
   "metadata": {},
   "source": [
    "#### Answer:"
   ]
  },
  {
   "cell_type": "markdown",
   "metadata": {},
   "source": [
    "And also to validate I used the accuracy, reacall and prediction socer. In my final model I got Accuracy Score: 100% Recall Score: 100% Precision Score: 100%."
   ]
  },
  {
   "cell_type": "markdown",
   "metadata": {},
   "source": [
    "## Exporting Model"
   ]
  },
  {
   "cell_type": "code",
   "execution_count": null,
   "metadata": {
    "collapsed": true
   },
   "outputs": [],
   "source": [
    "\n",
    "### Task 6: Dump your classifier, dataset, and features_list so anyone can\n",
    "### check your results. You do not need to change anything below, but make sure\n",
    "### that the version of poi_id.py that you submit can be run on its own and\n",
    "### generates the necessary .pkl files for validating your results.\n",
    "\n",
    "\n",
    "dump_classifier_and_data(clf, my_dataset, features_list)"
   ]
  },
  {
   "cell_type": "code",
   "execution_count": null,
   "metadata": {
    "collapsed": true
   },
   "outputs": [],
   "source": []
  },
  {
   "cell_type": "code",
   "execution_count": null,
   "metadata": {
    "collapsed": true
   },
   "outputs": [],
   "source": []
  }
 ],
 "metadata": {
  "kernelspec": {
   "display_name": "Python 2",
   "language": "python",
   "name": "python2"
  },
  "language_info": {
   "codemirror_mode": {
    "name": "ipython",
    "version": 2
   },
   "file_extension": ".py",
   "mimetype": "text/x-python",
   "name": "python",
   "nbconvert_exporter": "python",
   "pygments_lexer": "ipython2",
   "version": "2.7.13"
  }
 },
 "nbformat": 4,
 "nbformat_minor": 2
}
