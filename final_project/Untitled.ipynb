{
 "cells": [
  {
   "cell_type": "markdown",
   "metadata": {},
   "source": [
    "### nome: André Kenji Yai\n",
    "\n",
    "# Avaliação sobre Aprendizado Computacional\n",
    "\n",
    "Observações:\n",
    "- A interpretação das questões é parte integrante da avaliação.\n",
    "- Sempre que julgar apropriado, você pode usar softwares (e.g., R, Python, Weka, etc.) para resolver as questões.\n",
    "- O tempo de realização da prova será usado em sua avaliação. Inicie a prova imediatamente após o recebimento e envie suas respostas o mais rapidamente possível. O tempo máximo de prova é de 3 horas.\n"
   ]
  },
  {
   "cell_type": "markdown",
   "metadata": {},
   "source": [
    "### Módulo 1 – Agrupamento de Dados:\n",
    "1) Levando-se em conta a matriz de distâncias entre cinco objetos abaixo, esboçar o dendrograma obtido pelo método hierárquico aglomerativo conhecido como vinculação simples (single linkage), no qual a distância entre dois clusters é dada pela menor distância entre dois objetos (um de cada cluster)."
   ]
  },
  {
   "cell_type": "code",
   "execution_count": null,
   "metadata": {
    "collapsed": true
   },
   "outputs": [],
   "source": []
  }
 ],
 "metadata": {
  "kernelspec": {
   "display_name": "Python 3",
   "language": "python",
   "name": "python3"
  },
  "language_info": {
   "codemirror_mode": {
    "name": "ipython",
    "version": 3
   },
   "file_extension": ".py",
   "mimetype": "text/x-python",
   "name": "python",
   "nbconvert_exporter": "python",
   "pygments_lexer": "ipython3",
   "version": "3.6.1"
  }
 },
 "nbformat": 4,
 "nbformat_minor": 2
}
